{
 "cells": [
  {
   "cell_type": "code",
   "id": "3ca282cb-0a32-444d-b38a-f3837aa6d2df",
   "metadata": {
    "ExecuteTime": {
     "end_time": "2025-01-06T16:27:52.595084Z",
     "start_time": "2025-01-06T16:27:52.589650Z"
    }
   },
   "source": [
    "import pandas as pd\n",
    "import numpy as np\n",
    "import matplotlib.pyplot as plt\n",
    "import math\n",
    "from scipy.stats import randint\n",
    "from sklearn.model_selection import train_test_split, cross_val_score, RandomizedSearchCV\n",
    "from sklearn.preprocessing import OneHotEncoder, MinMaxScaler, StandardScaler, FunctionTransformer, PolynomialFeatures\n",
    "from sklearn.decomposition import PCA, TruncatedSVD\n",
    "from sklearn.impute import SimpleImputer\n",
    "from sklearn.pipeline import Pipeline, make_pipeline\n",
    "from sklearn.compose import make_column_selector, ColumnTransformer\n",
    "from sklearn.metrics import root_mean_squared_error"
   ],
   "outputs": [],
   "execution_count": 174
  },
  {
   "cell_type": "code",
   "id": "a9c1006a-f01c-4bbc-8b0b-1dfa06e33de4",
   "metadata": {
    "ExecuteTime": {
     "end_time": "2025-01-06T16:27:52.637333Z",
     "start_time": "2025-01-06T16:27:52.634681Z"
    }
   },
   "source": [
    "from sklearn.linear_model import LinearRegression, SGDRegressor, ElasticNetCV, RidgeCV\n",
    "from sklearn.tree import DecisionTreeRegressor\n",
    "from sklearn.ensemble import RandomForestRegressor\n"
   ],
   "outputs": [],
   "execution_count": 175
  },
  {
   "cell_type": "code",
   "id": "21a98c0f-6e83-41d9-abf1-92da2402071d",
   "metadata": {
    "ExecuteTime": {
     "end_time": "2025-01-06T16:27:53.749517Z",
     "start_time": "2025-01-06T16:27:52.681194Z"
    }
   },
   "source": [
    "train=pd.read_csv(\"data/train.csv\")\n",
    "test=pd.read_csv(\"data/test.csv\")\n",
    "holiday_events=pd.read_csv(\"data/holidays_events.csv\")\n",
    "oil=pd.read_csv(\"data/oil.csv\")\n",
    "stores=pd.read_csv(\"data/stores.csv\")"
   ],
   "outputs": [],
   "execution_count": 176
  },
  {
   "cell_type": "markdown",
   "id": "000786f7-ce10-4d2d-90b4-a4a6cc396429",
   "metadata": {},
   "source": [
    "# Kennelernen des Datasets\n",
    "## train.csv"
   ]
  },
  {
   "cell_type": "code",
   "id": "3bdd4533-9614-4bfe-838a-0c074b445864",
   "metadata": {
    "ExecuteTime": {
     "end_time": "2025-01-06T16:27:53.761388Z",
     "start_time": "2025-01-06T16:27:53.754774Z"
    }
   },
   "source": [
    "train.info()"
   ],
   "outputs": [
    {
     "name": "stdout",
     "output_type": "stream",
     "text": [
      "<class 'pandas.core.frame.DataFrame'>\n",
      "RangeIndex: 3000888 entries, 0 to 3000887\n",
      "Data columns (total 6 columns):\n",
      " #   Column       Dtype  \n",
      "---  ------       -----  \n",
      " 0   id           int64  \n",
      " 1   date         object \n",
      " 2   store_nbr    int64  \n",
      " 3   family       object \n",
      " 4   sales        float64\n",
      " 5   onpromotion  int64  \n",
      "dtypes: float64(1), int64(3), object(2)\n",
      "memory usage: 137.4+ MB\n"
     ]
    }
   ],
   "execution_count": 177
  },
  {
   "cell_type": "code",
   "id": "81f15593-9ad8-4813-898f-b11d4928e6d6",
   "metadata": {
    "ExecuteTime": {
     "end_time": "2025-01-06T16:27:53.821912Z",
     "start_time": "2025-01-06T16:27:53.812970Z"
    }
   },
   "source": [
    "train.head()"
   ],
   "outputs": [
    {
     "data": {
      "text/plain": [
       "   id        date  store_nbr      family  sales  onpromotion\n",
       "0   0  2013-01-01          1  AUTOMOTIVE    0.0            0\n",
       "1   1  2013-01-01          1   BABY CARE    0.0            0\n",
       "2   2  2013-01-01          1      BEAUTY    0.0            0\n",
       "3   3  2013-01-01          1   BEVERAGES    0.0            0\n",
       "4   4  2013-01-01          1       BOOKS    0.0            0"
      ],
      "text/html": [
       "<div>\n",
       "<style scoped>\n",
       "    .dataframe tbody tr th:only-of-type {\n",
       "        vertical-align: middle;\n",
       "    }\n",
       "\n",
       "    .dataframe tbody tr th {\n",
       "        vertical-align: top;\n",
       "    }\n",
       "\n",
       "    .dataframe thead th {\n",
       "        text-align: right;\n",
       "    }\n",
       "</style>\n",
       "<table border=\"1\" class=\"dataframe\">\n",
       "  <thead>\n",
       "    <tr style=\"text-align: right;\">\n",
       "      <th></th>\n",
       "      <th>id</th>\n",
       "      <th>date</th>\n",
       "      <th>store_nbr</th>\n",
       "      <th>family</th>\n",
       "      <th>sales</th>\n",
       "      <th>onpromotion</th>\n",
       "    </tr>\n",
       "  </thead>\n",
       "  <tbody>\n",
       "    <tr>\n",
       "      <th>0</th>\n",
       "      <td>0</td>\n",
       "      <td>2013-01-01</td>\n",
       "      <td>1</td>\n",
       "      <td>AUTOMOTIVE</td>\n",
       "      <td>0.0</td>\n",
       "      <td>0</td>\n",
       "    </tr>\n",
       "    <tr>\n",
       "      <th>1</th>\n",
       "      <td>1</td>\n",
       "      <td>2013-01-01</td>\n",
       "      <td>1</td>\n",
       "      <td>BABY CARE</td>\n",
       "      <td>0.0</td>\n",
       "      <td>0</td>\n",
       "    </tr>\n",
       "    <tr>\n",
       "      <th>2</th>\n",
       "      <td>2</td>\n",
       "      <td>2013-01-01</td>\n",
       "      <td>1</td>\n",
       "      <td>BEAUTY</td>\n",
       "      <td>0.0</td>\n",
       "      <td>0</td>\n",
       "    </tr>\n",
       "    <tr>\n",
       "      <th>3</th>\n",
       "      <td>3</td>\n",
       "      <td>2013-01-01</td>\n",
       "      <td>1</td>\n",
       "      <td>BEVERAGES</td>\n",
       "      <td>0.0</td>\n",
       "      <td>0</td>\n",
       "    </tr>\n",
       "    <tr>\n",
       "      <th>4</th>\n",
       "      <td>4</td>\n",
       "      <td>2013-01-01</td>\n",
       "      <td>1</td>\n",
       "      <td>BOOKS</td>\n",
       "      <td>0.0</td>\n",
       "      <td>0</td>\n",
       "    </tr>\n",
       "  </tbody>\n",
       "</table>\n",
       "</div>"
      ]
     },
     "execution_count": 178,
     "metadata": {},
     "output_type": "execute_result"
    }
   ],
   "execution_count": 178
  },
  {
   "cell_type": "markdown",
   "id": "06e2a5cc-a3f4-45a5-b53d-6362a9be48b0",
   "metadata": {},
   "source": [
    "In der Tabelle der Trainingsdaten sind schon einige interessante features für die Voraussage der Sales vorhanden. Schauen wir uns einmal die übrigen Tabellen an, um eventuell weitere relevante Informationen in das Modell mit einzubeziehen."
   ]
  },
  {
   "cell_type": "markdown",
   "id": "e7071091-04ed-43c3-b20c-f7aa24a0e303",
   "metadata": {},
   "source": [
    "## oil.csv\n",
    "Diese Tabelle hat Informationen über die Ölpreise gespeichert. Diese Informationen könnten nützlich sein, da Ecuadors Wirtschaft stark abhängig von den Ölpreisen ist."
   ]
  },
  {
   "cell_type": "code",
   "id": "62096d69-5409-46b1-a34e-e77a6029017c",
   "metadata": {
    "ExecuteTime": {
     "end_time": "2025-01-06T16:27:53.921508Z",
     "start_time": "2025-01-06T16:27:53.916296Z"
    }
   },
   "source": [
    "oil.info()"
   ],
   "outputs": [
    {
     "name": "stdout",
     "output_type": "stream",
     "text": [
      "<class 'pandas.core.frame.DataFrame'>\n",
      "RangeIndex: 1218 entries, 0 to 1217\n",
      "Data columns (total 2 columns):\n",
      " #   Column      Non-Null Count  Dtype  \n",
      "---  ------      --------------  -----  \n",
      " 0   date        1218 non-null   object \n",
      " 1   dcoilwtico  1175 non-null   float64\n",
      "dtypes: float64(1), object(1)\n",
      "memory usage: 19.2+ KB\n"
     ]
    }
   ],
   "execution_count": 179
  },
  {
   "cell_type": "code",
   "id": "3d25efda-fb63-4b0c-ac2d-cc7310dfe4c4",
   "metadata": {
    "ExecuteTime": {
     "end_time": "2025-01-06T16:27:54.413748Z",
     "start_time": "2025-01-06T16:27:53.975865Z"
    }
   },
   "source": [
    "train=pd.merge(train,oil, on=\"date\", how=\"left\")\n",
    "test=pd.merge(test,oil, on=\"date\", how=\"left\")"
   ],
   "outputs": [],
   "execution_count": 180
  },
  {
   "cell_type": "code",
   "id": "6f417e10-279d-4e71-9eba-ed666e23d2f4",
   "metadata": {
    "ExecuteTime": {
     "end_time": "2025-01-06T16:27:54.449621Z",
     "start_time": "2025-01-06T16:27:54.442923Z"
    }
   },
   "source": [
    "train.head()"
   ],
   "outputs": [
    {
     "data": {
      "text/plain": [
       "   id        date  store_nbr      family  sales  onpromotion  dcoilwtico\n",
       "0   0  2013-01-01          1  AUTOMOTIVE    0.0            0         NaN\n",
       "1   1  2013-01-01          1   BABY CARE    0.0            0         NaN\n",
       "2   2  2013-01-01          1      BEAUTY    0.0            0         NaN\n",
       "3   3  2013-01-01          1   BEVERAGES    0.0            0         NaN\n",
       "4   4  2013-01-01          1       BOOKS    0.0            0         NaN"
      ],
      "text/html": [
       "<div>\n",
       "<style scoped>\n",
       "    .dataframe tbody tr th:only-of-type {\n",
       "        vertical-align: middle;\n",
       "    }\n",
       "\n",
       "    .dataframe tbody tr th {\n",
       "        vertical-align: top;\n",
       "    }\n",
       "\n",
       "    .dataframe thead th {\n",
       "        text-align: right;\n",
       "    }\n",
       "</style>\n",
       "<table border=\"1\" class=\"dataframe\">\n",
       "  <thead>\n",
       "    <tr style=\"text-align: right;\">\n",
       "      <th></th>\n",
       "      <th>id</th>\n",
       "      <th>date</th>\n",
       "      <th>store_nbr</th>\n",
       "      <th>family</th>\n",
       "      <th>sales</th>\n",
       "      <th>onpromotion</th>\n",
       "      <th>dcoilwtico</th>\n",
       "    </tr>\n",
       "  </thead>\n",
       "  <tbody>\n",
       "    <tr>\n",
       "      <th>0</th>\n",
       "      <td>0</td>\n",
       "      <td>2013-01-01</td>\n",
       "      <td>1</td>\n",
       "      <td>AUTOMOTIVE</td>\n",
       "      <td>0.0</td>\n",
       "      <td>0</td>\n",
       "      <td>NaN</td>\n",
       "    </tr>\n",
       "    <tr>\n",
       "      <th>1</th>\n",
       "      <td>1</td>\n",
       "      <td>2013-01-01</td>\n",
       "      <td>1</td>\n",
       "      <td>BABY CARE</td>\n",
       "      <td>0.0</td>\n",
       "      <td>0</td>\n",
       "      <td>NaN</td>\n",
       "    </tr>\n",
       "    <tr>\n",
       "      <th>2</th>\n",
       "      <td>2</td>\n",
       "      <td>2013-01-01</td>\n",
       "      <td>1</td>\n",
       "      <td>BEAUTY</td>\n",
       "      <td>0.0</td>\n",
       "      <td>0</td>\n",
       "      <td>NaN</td>\n",
       "    </tr>\n",
       "    <tr>\n",
       "      <th>3</th>\n",
       "      <td>3</td>\n",
       "      <td>2013-01-01</td>\n",
       "      <td>1</td>\n",
       "      <td>BEVERAGES</td>\n",
       "      <td>0.0</td>\n",
       "      <td>0</td>\n",
       "      <td>NaN</td>\n",
       "    </tr>\n",
       "    <tr>\n",
       "      <th>4</th>\n",
       "      <td>4</td>\n",
       "      <td>2013-01-01</td>\n",
       "      <td>1</td>\n",
       "      <td>BOOKS</td>\n",
       "      <td>0.0</td>\n",
       "      <td>0</td>\n",
       "      <td>NaN</td>\n",
       "    </tr>\n",
       "  </tbody>\n",
       "</table>\n",
       "</div>"
      ]
     },
     "execution_count": 181,
     "metadata": {},
     "output_type": "execute_result"
    }
   ],
   "execution_count": 181
  },
  {
   "cell_type": "markdown",
   "id": "88a86e5c-2d03-449a-9f54-f1418747a483",
   "metadata": {},
   "source": [
    "## stores.csv\n",
    "Diese Tabelle speichert Informationen über die Stores, wie die Standorte oder sogar eine Typisierung mittels Clustering."
   ]
  },
  {
   "cell_type": "code",
   "id": "2dbcad52-e788-42c0-a846-85f0e2808ca1",
   "metadata": {
    "ExecuteTime": {
     "end_time": "2025-01-06T16:27:54.502234Z",
     "start_time": "2025-01-06T16:27:54.495890Z"
    }
   },
   "source": [
    "stores.head()"
   ],
   "outputs": [
    {
     "data": {
      "text/plain": [
       "   store_nbr           city                           state type  cluster\n",
       "0          1          Quito                       Pichincha    D       13\n",
       "1          2          Quito                       Pichincha    D       13\n",
       "2          3          Quito                       Pichincha    D        8\n",
       "3          4          Quito                       Pichincha    D        9\n",
       "4          5  Santo Domingo  Santo Domingo de los Tsachilas    D        4"
      ],
      "text/html": [
       "<div>\n",
       "<style scoped>\n",
       "    .dataframe tbody tr th:only-of-type {\n",
       "        vertical-align: middle;\n",
       "    }\n",
       "\n",
       "    .dataframe tbody tr th {\n",
       "        vertical-align: top;\n",
       "    }\n",
       "\n",
       "    .dataframe thead th {\n",
       "        text-align: right;\n",
       "    }\n",
       "</style>\n",
       "<table border=\"1\" class=\"dataframe\">\n",
       "  <thead>\n",
       "    <tr style=\"text-align: right;\">\n",
       "      <th></th>\n",
       "      <th>store_nbr</th>\n",
       "      <th>city</th>\n",
       "      <th>state</th>\n",
       "      <th>type</th>\n",
       "      <th>cluster</th>\n",
       "    </tr>\n",
       "  </thead>\n",
       "  <tbody>\n",
       "    <tr>\n",
       "      <th>0</th>\n",
       "      <td>1</td>\n",
       "      <td>Quito</td>\n",
       "      <td>Pichincha</td>\n",
       "      <td>D</td>\n",
       "      <td>13</td>\n",
       "    </tr>\n",
       "    <tr>\n",
       "      <th>1</th>\n",
       "      <td>2</td>\n",
       "      <td>Quito</td>\n",
       "      <td>Pichincha</td>\n",
       "      <td>D</td>\n",
       "      <td>13</td>\n",
       "    </tr>\n",
       "    <tr>\n",
       "      <th>2</th>\n",
       "      <td>3</td>\n",
       "      <td>Quito</td>\n",
       "      <td>Pichincha</td>\n",
       "      <td>D</td>\n",
       "      <td>8</td>\n",
       "    </tr>\n",
       "    <tr>\n",
       "      <th>3</th>\n",
       "      <td>4</td>\n",
       "      <td>Quito</td>\n",
       "      <td>Pichincha</td>\n",
       "      <td>D</td>\n",
       "      <td>9</td>\n",
       "    </tr>\n",
       "    <tr>\n",
       "      <th>4</th>\n",
       "      <td>5</td>\n",
       "      <td>Santo Domingo</td>\n",
       "      <td>Santo Domingo de los Tsachilas</td>\n",
       "      <td>D</td>\n",
       "      <td>4</td>\n",
       "    </tr>\n",
       "  </tbody>\n",
       "</table>\n",
       "</div>"
      ]
     },
     "execution_count": 182,
     "metadata": {},
     "output_type": "execute_result"
    }
   ],
   "execution_count": 182
  },
  {
   "cell_type": "code",
   "id": "81e3c635-3461-40bd-ae2e-ebde440b7349",
   "metadata": {
    "ExecuteTime": {
     "end_time": "2025-01-06T16:27:54.863248Z",
     "start_time": "2025-01-06T16:27:54.561948Z"
    }
   },
   "source": [
    "train=pd.merge(train,stores, on=\"store_nbr\", how=\"left\")\n",
    "test=pd.merge(test,stores, on=\"store_nbr\", how=\"left\")"
   ],
   "outputs": [],
   "execution_count": 183
  },
  {
   "cell_type": "code",
   "id": "8e4fe191-9183-4346-98b4-760667858f92",
   "metadata": {
    "ExecuteTime": {
     "end_time": "2025-01-06T16:27:54.923124Z",
     "start_time": "2025-01-06T16:27:54.912896Z"
    }
   },
   "source": [
    "train.head()"
   ],
   "outputs": [
    {
     "data": {
      "text/plain": [
       "   id        date  store_nbr      family  sales  onpromotion  dcoilwtico  \\\n",
       "0   0  2013-01-01          1  AUTOMOTIVE    0.0            0         NaN   \n",
       "1   1  2013-01-01          1   BABY CARE    0.0            0         NaN   \n",
       "2   2  2013-01-01          1      BEAUTY    0.0            0         NaN   \n",
       "3   3  2013-01-01          1   BEVERAGES    0.0            0         NaN   \n",
       "4   4  2013-01-01          1       BOOKS    0.0            0         NaN   \n",
       "\n",
       "    city      state type  cluster  \n",
       "0  Quito  Pichincha    D       13  \n",
       "1  Quito  Pichincha    D       13  \n",
       "2  Quito  Pichincha    D       13  \n",
       "3  Quito  Pichincha    D       13  \n",
       "4  Quito  Pichincha    D       13  "
      ],
      "text/html": [
       "<div>\n",
       "<style scoped>\n",
       "    .dataframe tbody tr th:only-of-type {\n",
       "        vertical-align: middle;\n",
       "    }\n",
       "\n",
       "    .dataframe tbody tr th {\n",
       "        vertical-align: top;\n",
       "    }\n",
       "\n",
       "    .dataframe thead th {\n",
       "        text-align: right;\n",
       "    }\n",
       "</style>\n",
       "<table border=\"1\" class=\"dataframe\">\n",
       "  <thead>\n",
       "    <tr style=\"text-align: right;\">\n",
       "      <th></th>\n",
       "      <th>id</th>\n",
       "      <th>date</th>\n",
       "      <th>store_nbr</th>\n",
       "      <th>family</th>\n",
       "      <th>sales</th>\n",
       "      <th>onpromotion</th>\n",
       "      <th>dcoilwtico</th>\n",
       "      <th>city</th>\n",
       "      <th>state</th>\n",
       "      <th>type</th>\n",
       "      <th>cluster</th>\n",
       "    </tr>\n",
       "  </thead>\n",
       "  <tbody>\n",
       "    <tr>\n",
       "      <th>0</th>\n",
       "      <td>0</td>\n",
       "      <td>2013-01-01</td>\n",
       "      <td>1</td>\n",
       "      <td>AUTOMOTIVE</td>\n",
       "      <td>0.0</td>\n",
       "      <td>0</td>\n",
       "      <td>NaN</td>\n",
       "      <td>Quito</td>\n",
       "      <td>Pichincha</td>\n",
       "      <td>D</td>\n",
       "      <td>13</td>\n",
       "    </tr>\n",
       "    <tr>\n",
       "      <th>1</th>\n",
       "      <td>1</td>\n",
       "      <td>2013-01-01</td>\n",
       "      <td>1</td>\n",
       "      <td>BABY CARE</td>\n",
       "      <td>0.0</td>\n",
       "      <td>0</td>\n",
       "      <td>NaN</td>\n",
       "      <td>Quito</td>\n",
       "      <td>Pichincha</td>\n",
       "      <td>D</td>\n",
       "      <td>13</td>\n",
       "    </tr>\n",
       "    <tr>\n",
       "      <th>2</th>\n",
       "      <td>2</td>\n",
       "      <td>2013-01-01</td>\n",
       "      <td>1</td>\n",
       "      <td>BEAUTY</td>\n",
       "      <td>0.0</td>\n",
       "      <td>0</td>\n",
       "      <td>NaN</td>\n",
       "      <td>Quito</td>\n",
       "      <td>Pichincha</td>\n",
       "      <td>D</td>\n",
       "      <td>13</td>\n",
       "    </tr>\n",
       "    <tr>\n",
       "      <th>3</th>\n",
       "      <td>3</td>\n",
       "      <td>2013-01-01</td>\n",
       "      <td>1</td>\n",
       "      <td>BEVERAGES</td>\n",
       "      <td>0.0</td>\n",
       "      <td>0</td>\n",
       "      <td>NaN</td>\n",
       "      <td>Quito</td>\n",
       "      <td>Pichincha</td>\n",
       "      <td>D</td>\n",
       "      <td>13</td>\n",
       "    </tr>\n",
       "    <tr>\n",
       "      <th>4</th>\n",
       "      <td>4</td>\n",
       "      <td>2013-01-01</td>\n",
       "      <td>1</td>\n",
       "      <td>BOOKS</td>\n",
       "      <td>0.0</td>\n",
       "      <td>0</td>\n",
       "      <td>NaN</td>\n",
       "      <td>Quito</td>\n",
       "      <td>Pichincha</td>\n",
       "      <td>D</td>\n",
       "      <td>13</td>\n",
       "    </tr>\n",
       "  </tbody>\n",
       "</table>\n",
       "</div>"
      ]
     },
     "execution_count": 184,
     "metadata": {},
     "output_type": "execute_result"
    }
   ],
   "execution_count": 184
  },
  {
   "cell_type": "markdown",
   "id": "09d8145e-f447-43cf-9848-ea2f07b75403",
   "metadata": {},
   "source": [
    "## holiday_events.csv\n",
    "Letztlich werfen wir ein Blick auf die Tabelle Holiday Events, welche die Feiertage in Ecuador festhält."
   ]
  },
  {
   "cell_type": "code",
   "id": "7ccb191c-69ff-4dfa-99bf-742b7aed45f1",
   "metadata": {
    "ExecuteTime": {
     "end_time": "2025-01-06T16:27:54.992874Z",
     "start_time": "2025-01-06T16:27:54.986715Z"
    }
   },
   "source": [
    "holiday_events.info()"
   ],
   "outputs": [
    {
     "name": "stdout",
     "output_type": "stream",
     "text": [
      "<class 'pandas.core.frame.DataFrame'>\n",
      "RangeIndex: 350 entries, 0 to 349\n",
      "Data columns (total 6 columns):\n",
      " #   Column       Non-Null Count  Dtype \n",
      "---  ------       --------------  ----- \n",
      " 0   date         350 non-null    object\n",
      " 1   type         350 non-null    object\n",
      " 2   locale       350 non-null    object\n",
      " 3   locale_name  350 non-null    object\n",
      " 4   description  350 non-null    object\n",
      " 5   transferred  350 non-null    bool  \n",
      "dtypes: bool(1), object(5)\n",
      "memory usage: 14.1+ KB\n"
     ]
    }
   ],
   "execution_count": 185
  },
  {
   "cell_type": "markdown",
   "id": "2ac510bf-99c0-4091-932b-7cad9042774f",
   "metadata": {},
   "source": [
    "Der Einfachheit wegen, begrenzen wir uns ausschließlich auf nationale Feiertage. "
   ]
  },
  {
   "cell_type": "code",
   "id": "2668f136-b7e2-47c0-9f32-c0ce6b4768e5",
   "metadata": {
    "ExecuteTime": {
     "end_time": "2025-01-06T16:27:55.036099Z",
     "start_time": "2025-01-06T16:27:55.030636Z"
    }
   },
   "source": [
    "national_holidays=holiday_events[(holiday_events[\"locale\"]==\"National\")&(holiday_events[\"type\"]==\"Holiday\")]"
   ],
   "outputs": [],
   "execution_count": 186
  },
  {
   "cell_type": "code",
   "id": "8c03e0c4-7950-4bba-a872-6ec0fb38b974",
   "metadata": {
    "ExecuteTime": {
     "end_time": "2025-01-06T16:27:55.078050Z",
     "start_time": "2025-01-06T16:27:55.074340Z"
    }
   },
   "source": [
    "national_holidays = national_holidays[~national_holidays['description'].str.startswith('Terremoto')]\n",
    "national_holidays = national_holidays[~national_holidays['description'].str.startswith('Mundial de futbol')]"
   ],
   "outputs": [],
   "execution_count": 187
  },
  {
   "cell_type": "code",
   "id": "577db783-942f-46f7-bd4d-65a0eae23374",
   "metadata": {
    "ExecuteTime": {
     "end_time": "2025-01-06T16:27:55.119914Z",
     "start_time": "2025-01-06T16:27:55.112151Z"
    }
   },
   "source": [
    "national_holidays.head()"
   ],
   "outputs": [
    {
     "data": {
      "text/plain": [
       "          date     type    locale locale_name                    description  \\\n",
       "14  2012-08-10  Holiday  National     Ecuador  Primer Grito de Independencia   \n",
       "19  2012-10-09  Holiday  National     Ecuador     Independencia de Guayaquil   \n",
       "21  2012-11-02  Holiday  National     Ecuador                Dia de Difuntos   \n",
       "22  2012-11-03  Holiday  National     Ecuador        Independencia de Cuenca   \n",
       "37  2012-12-25  Holiday  National     Ecuador                        Navidad   \n",
       "\n",
       "    transferred  \n",
       "14        False  \n",
       "19         True  \n",
       "21        False  \n",
       "22        False  \n",
       "37        False  "
      ],
      "text/html": [
       "<div>\n",
       "<style scoped>\n",
       "    .dataframe tbody tr th:only-of-type {\n",
       "        vertical-align: middle;\n",
       "    }\n",
       "\n",
       "    .dataframe tbody tr th {\n",
       "        vertical-align: top;\n",
       "    }\n",
       "\n",
       "    .dataframe thead th {\n",
       "        text-align: right;\n",
       "    }\n",
       "</style>\n",
       "<table border=\"1\" class=\"dataframe\">\n",
       "  <thead>\n",
       "    <tr style=\"text-align: right;\">\n",
       "      <th></th>\n",
       "      <th>date</th>\n",
       "      <th>type</th>\n",
       "      <th>locale</th>\n",
       "      <th>locale_name</th>\n",
       "      <th>description</th>\n",
       "      <th>transferred</th>\n",
       "    </tr>\n",
       "  </thead>\n",
       "  <tbody>\n",
       "    <tr>\n",
       "      <th>14</th>\n",
       "      <td>2012-08-10</td>\n",
       "      <td>Holiday</td>\n",
       "      <td>National</td>\n",
       "      <td>Ecuador</td>\n",
       "      <td>Primer Grito de Independencia</td>\n",
       "      <td>False</td>\n",
       "    </tr>\n",
       "    <tr>\n",
       "      <th>19</th>\n",
       "      <td>2012-10-09</td>\n",
       "      <td>Holiday</td>\n",
       "      <td>National</td>\n",
       "      <td>Ecuador</td>\n",
       "      <td>Independencia de Guayaquil</td>\n",
       "      <td>True</td>\n",
       "    </tr>\n",
       "    <tr>\n",
       "      <th>21</th>\n",
       "      <td>2012-11-02</td>\n",
       "      <td>Holiday</td>\n",
       "      <td>National</td>\n",
       "      <td>Ecuador</td>\n",
       "      <td>Dia de Difuntos</td>\n",
       "      <td>False</td>\n",
       "    </tr>\n",
       "    <tr>\n",
       "      <th>22</th>\n",
       "      <td>2012-11-03</td>\n",
       "      <td>Holiday</td>\n",
       "      <td>National</td>\n",
       "      <td>Ecuador</td>\n",
       "      <td>Independencia de Cuenca</td>\n",
       "      <td>False</td>\n",
       "    </tr>\n",
       "    <tr>\n",
       "      <th>37</th>\n",
       "      <td>2012-12-25</td>\n",
       "      <td>Holiday</td>\n",
       "      <td>National</td>\n",
       "      <td>Ecuador</td>\n",
       "      <td>Navidad</td>\n",
       "      <td>False</td>\n",
       "    </tr>\n",
       "  </tbody>\n",
       "</table>\n",
       "</div>"
      ]
     },
     "execution_count": 188,
     "metadata": {},
     "output_type": "execute_result"
    }
   ],
   "execution_count": 188
  },
  {
   "cell_type": "code",
   "id": "0f6272a4-bf76-4a2b-be17-da41aadd16a1",
   "metadata": {
    "ExecuteTime": {
     "end_time": "2025-01-06T16:27:56.936726Z",
     "start_time": "2025-01-06T16:27:55.188755Z"
    }
   },
   "source": [
    "train=pd.merge(train, national_holidays, on=\"date\", how=\"left\")\n",
    "test=pd.merge(test, national_holidays, on=\"date\", how=\"left\")"
   ],
   "outputs": [],
   "execution_count": 189
  },
  {
   "cell_type": "code",
   "id": "39125fd3-6f20-4165-9d5d-7c08205d2bb7",
   "metadata": {
    "ExecuteTime": {
     "end_time": "2025-01-06T16:27:56.980708Z",
     "start_time": "2025-01-06T16:27:56.968432Z"
    }
   },
   "source": [
    "train.head()"
   ],
   "outputs": [
    {
     "data": {
      "text/plain": [
       "   id        date  store_nbr      family  sales  onpromotion  dcoilwtico  \\\n",
       "0   0  2013-01-01          1  AUTOMOTIVE    0.0            0         NaN   \n",
       "1   1  2013-01-01          1   BABY CARE    0.0            0         NaN   \n",
       "2   2  2013-01-01          1      BEAUTY    0.0            0         NaN   \n",
       "3   3  2013-01-01          1   BEVERAGES    0.0            0         NaN   \n",
       "4   4  2013-01-01          1       BOOKS    0.0            0         NaN   \n",
       "\n",
       "    city      state type_x  cluster   type_y    locale locale_name  \\\n",
       "0  Quito  Pichincha      D       13  Holiday  National     Ecuador   \n",
       "1  Quito  Pichincha      D       13  Holiday  National     Ecuador   \n",
       "2  Quito  Pichincha      D       13  Holiday  National     Ecuador   \n",
       "3  Quito  Pichincha      D       13  Holiday  National     Ecuador   \n",
       "4  Quito  Pichincha      D       13  Holiday  National     Ecuador   \n",
       "\n",
       "          description transferred  \n",
       "0  Primer dia del ano       False  \n",
       "1  Primer dia del ano       False  \n",
       "2  Primer dia del ano       False  \n",
       "3  Primer dia del ano       False  \n",
       "4  Primer dia del ano       False  "
      ],
      "text/html": [
       "<div>\n",
       "<style scoped>\n",
       "    .dataframe tbody tr th:only-of-type {\n",
       "        vertical-align: middle;\n",
       "    }\n",
       "\n",
       "    .dataframe tbody tr th {\n",
       "        vertical-align: top;\n",
       "    }\n",
       "\n",
       "    .dataframe thead th {\n",
       "        text-align: right;\n",
       "    }\n",
       "</style>\n",
       "<table border=\"1\" class=\"dataframe\">\n",
       "  <thead>\n",
       "    <tr style=\"text-align: right;\">\n",
       "      <th></th>\n",
       "      <th>id</th>\n",
       "      <th>date</th>\n",
       "      <th>store_nbr</th>\n",
       "      <th>family</th>\n",
       "      <th>sales</th>\n",
       "      <th>onpromotion</th>\n",
       "      <th>dcoilwtico</th>\n",
       "      <th>city</th>\n",
       "      <th>state</th>\n",
       "      <th>type_x</th>\n",
       "      <th>cluster</th>\n",
       "      <th>type_y</th>\n",
       "      <th>locale</th>\n",
       "      <th>locale_name</th>\n",
       "      <th>description</th>\n",
       "      <th>transferred</th>\n",
       "    </tr>\n",
       "  </thead>\n",
       "  <tbody>\n",
       "    <tr>\n",
       "      <th>0</th>\n",
       "      <td>0</td>\n",
       "      <td>2013-01-01</td>\n",
       "      <td>1</td>\n",
       "      <td>AUTOMOTIVE</td>\n",
       "      <td>0.0</td>\n",
       "      <td>0</td>\n",
       "      <td>NaN</td>\n",
       "      <td>Quito</td>\n",
       "      <td>Pichincha</td>\n",
       "      <td>D</td>\n",
       "      <td>13</td>\n",
       "      <td>Holiday</td>\n",
       "      <td>National</td>\n",
       "      <td>Ecuador</td>\n",
       "      <td>Primer dia del ano</td>\n",
       "      <td>False</td>\n",
       "    </tr>\n",
       "    <tr>\n",
       "      <th>1</th>\n",
       "      <td>1</td>\n",
       "      <td>2013-01-01</td>\n",
       "      <td>1</td>\n",
       "      <td>BABY CARE</td>\n",
       "      <td>0.0</td>\n",
       "      <td>0</td>\n",
       "      <td>NaN</td>\n",
       "      <td>Quito</td>\n",
       "      <td>Pichincha</td>\n",
       "      <td>D</td>\n",
       "      <td>13</td>\n",
       "      <td>Holiday</td>\n",
       "      <td>National</td>\n",
       "      <td>Ecuador</td>\n",
       "      <td>Primer dia del ano</td>\n",
       "      <td>False</td>\n",
       "    </tr>\n",
       "    <tr>\n",
       "      <th>2</th>\n",
       "      <td>2</td>\n",
       "      <td>2013-01-01</td>\n",
       "      <td>1</td>\n",
       "      <td>BEAUTY</td>\n",
       "      <td>0.0</td>\n",
       "      <td>0</td>\n",
       "      <td>NaN</td>\n",
       "      <td>Quito</td>\n",
       "      <td>Pichincha</td>\n",
       "      <td>D</td>\n",
       "      <td>13</td>\n",
       "      <td>Holiday</td>\n",
       "      <td>National</td>\n",
       "      <td>Ecuador</td>\n",
       "      <td>Primer dia del ano</td>\n",
       "      <td>False</td>\n",
       "    </tr>\n",
       "    <tr>\n",
       "      <th>3</th>\n",
       "      <td>3</td>\n",
       "      <td>2013-01-01</td>\n",
       "      <td>1</td>\n",
       "      <td>BEVERAGES</td>\n",
       "      <td>0.0</td>\n",
       "      <td>0</td>\n",
       "      <td>NaN</td>\n",
       "      <td>Quito</td>\n",
       "      <td>Pichincha</td>\n",
       "      <td>D</td>\n",
       "      <td>13</td>\n",
       "      <td>Holiday</td>\n",
       "      <td>National</td>\n",
       "      <td>Ecuador</td>\n",
       "      <td>Primer dia del ano</td>\n",
       "      <td>False</td>\n",
       "    </tr>\n",
       "    <tr>\n",
       "      <th>4</th>\n",
       "      <td>4</td>\n",
       "      <td>2013-01-01</td>\n",
       "      <td>1</td>\n",
       "      <td>BOOKS</td>\n",
       "      <td>0.0</td>\n",
       "      <td>0</td>\n",
       "      <td>NaN</td>\n",
       "      <td>Quito</td>\n",
       "      <td>Pichincha</td>\n",
       "      <td>D</td>\n",
       "      <td>13</td>\n",
       "      <td>Holiday</td>\n",
       "      <td>National</td>\n",
       "      <td>Ecuador</td>\n",
       "      <td>Primer dia del ano</td>\n",
       "      <td>False</td>\n",
       "    </tr>\n",
       "  </tbody>\n",
       "</table>\n",
       "</div>"
      ]
     },
     "execution_count": 190,
     "metadata": {},
     "output_type": "execute_result"
    }
   ],
   "execution_count": 190
  },
  {
   "cell_type": "code",
   "id": "c040767b-f4c4-4bd3-a29d-9fd137d3e96f",
   "metadata": {
    "ExecuteTime": {
     "end_time": "2025-01-06T16:27:57.193558Z",
     "start_time": "2025-01-06T16:27:57.029713Z"
    }
   },
   "source": [
    "#Löschen irrelevanter Spalten\n",
    "train=train.drop([\"type_y\",\"locale\",\"locale_name\",\"transferred\"], axis=1)"
   ],
   "outputs": [],
   "execution_count": 191
  },
  {
   "cell_type": "code",
   "id": "2db15391-5934-4947-9e80-ff2f3a747af1",
   "metadata": {
    "ExecuteTime": {
     "end_time": "2025-01-06T16:27:57.752701Z",
     "start_time": "2025-01-06T16:27:57.220930Z"
    }
   },
   "source": [
    "#Umbenennen der Spalten in passendere Namen\n",
    "train[\"oil_price\"]=train[\"dcoilwtico\"]\n",
    "train[\"holiday\"]=train[\"description\"]\n",
    "train=train.drop([\"dcoilwtico\", \"id\", \"city\"], axis=1)\n",
    "\n",
    "test[\"oil_price\"]=test[\"dcoilwtico\"]\n",
    "test[\"holiday\"]=test[\"description\"]\n",
    "test=test.drop([\"dcoilwtico\", \"id\", \"city\", \"description\"], axis=1)"
   ],
   "outputs": [],
   "execution_count": 192
  },
  {
   "cell_type": "code",
   "id": "99e28428-ae22-4e2c-9618-dae62c8fc7e3",
   "metadata": {
    "ExecuteTime": {
     "end_time": "2025-01-06T16:27:58.024811Z",
     "start_time": "2025-01-06T16:27:57.757589Z"
    }
   },
   "source": [
    "train[\"date\"]=pd.to_datetime(train[\"date\"])\n",
    "train[\"year\"]=train[\"date\"].dt.year\n",
    "train[\"month\"]=train[\"date\"].dt.month\n",
    "train.set_index(\"date\", inplace=True, drop=True)"
   ],
   "outputs": [],
   "execution_count": 193
  },
  {
   "cell_type": "code",
   "id": "8493af03-08a8-46cf-a434-0bdaf89de30d",
   "metadata": {
    "ExecuteTime": {
     "end_time": "2025-01-06T16:27:58.055319Z",
     "start_time": "2025-01-06T16:27:58.029277Z"
    }
   },
   "source": [
    "train.info()"
   ],
   "outputs": [
    {
     "name": "stdout",
     "output_type": "stream",
     "text": [
      "<class 'pandas.core.frame.DataFrame'>\n",
      "DatetimeIndex: 3000888 entries, 2013-01-01 to 2017-08-15\n",
      "Data columns (total 12 columns):\n",
      " #   Column       Dtype  \n",
      "---  ------       -----  \n",
      " 0   store_nbr    int64  \n",
      " 1   family       object \n",
      " 2   sales        float64\n",
      " 3   onpromotion  int64  \n",
      " 4   state        object \n",
      " 5   type_x       object \n",
      " 6   cluster      int64  \n",
      " 7   description  object \n",
      " 8   oil_price    float64\n",
      " 9   holiday      object \n",
      " 10  year         int32  \n",
      " 11  month        int32  \n",
      "dtypes: float64(2), int32(2), int64(3), object(5)\n",
      "memory usage: 274.7+ MB\n"
     ]
    }
   ],
   "execution_count": 194
  },
  {
   "metadata": {
    "ExecuteTime": {
     "end_time": "2025-01-06T16:27:58.086282Z",
     "start_time": "2025-01-06T16:27:58.078013Z"
    }
   },
   "cell_type": "code",
   "source": "train.head()",
   "id": "7e86c0f85c3e1343",
   "outputs": [
    {
     "data": {
      "text/plain": [
       "            store_nbr      family  sales  onpromotion      state type_x  \\\n",
       "date                                                                      \n",
       "2013-01-01          1  AUTOMOTIVE    0.0            0  Pichincha      D   \n",
       "2013-01-01          1   BABY CARE    0.0            0  Pichincha      D   \n",
       "2013-01-01          1      BEAUTY    0.0            0  Pichincha      D   \n",
       "2013-01-01          1   BEVERAGES    0.0            0  Pichincha      D   \n",
       "2013-01-01          1       BOOKS    0.0            0  Pichincha      D   \n",
       "\n",
       "            cluster         description  oil_price             holiday  year  \\\n",
       "date                                                                           \n",
       "2013-01-01       13  Primer dia del ano        NaN  Primer dia del ano  2013   \n",
       "2013-01-01       13  Primer dia del ano        NaN  Primer dia del ano  2013   \n",
       "2013-01-01       13  Primer dia del ano        NaN  Primer dia del ano  2013   \n",
       "2013-01-01       13  Primer dia del ano        NaN  Primer dia del ano  2013   \n",
       "2013-01-01       13  Primer dia del ano        NaN  Primer dia del ano  2013   \n",
       "\n",
       "            month  \n",
       "date               \n",
       "2013-01-01      1  \n",
       "2013-01-01      1  \n",
       "2013-01-01      1  \n",
       "2013-01-01      1  \n",
       "2013-01-01      1  "
      ],
      "text/html": [
       "<div>\n",
       "<style scoped>\n",
       "    .dataframe tbody tr th:only-of-type {\n",
       "        vertical-align: middle;\n",
       "    }\n",
       "\n",
       "    .dataframe tbody tr th {\n",
       "        vertical-align: top;\n",
       "    }\n",
       "\n",
       "    .dataframe thead th {\n",
       "        text-align: right;\n",
       "    }\n",
       "</style>\n",
       "<table border=\"1\" class=\"dataframe\">\n",
       "  <thead>\n",
       "    <tr style=\"text-align: right;\">\n",
       "      <th></th>\n",
       "      <th>store_nbr</th>\n",
       "      <th>family</th>\n",
       "      <th>sales</th>\n",
       "      <th>onpromotion</th>\n",
       "      <th>state</th>\n",
       "      <th>type_x</th>\n",
       "      <th>cluster</th>\n",
       "      <th>description</th>\n",
       "      <th>oil_price</th>\n",
       "      <th>holiday</th>\n",
       "      <th>year</th>\n",
       "      <th>month</th>\n",
       "    </tr>\n",
       "    <tr>\n",
       "      <th>date</th>\n",
       "      <th></th>\n",
       "      <th></th>\n",
       "      <th></th>\n",
       "      <th></th>\n",
       "      <th></th>\n",
       "      <th></th>\n",
       "      <th></th>\n",
       "      <th></th>\n",
       "      <th></th>\n",
       "      <th></th>\n",
       "      <th></th>\n",
       "      <th></th>\n",
       "    </tr>\n",
       "  </thead>\n",
       "  <tbody>\n",
       "    <tr>\n",
       "      <th>2013-01-01</th>\n",
       "      <td>1</td>\n",
       "      <td>AUTOMOTIVE</td>\n",
       "      <td>0.0</td>\n",
       "      <td>0</td>\n",
       "      <td>Pichincha</td>\n",
       "      <td>D</td>\n",
       "      <td>13</td>\n",
       "      <td>Primer dia del ano</td>\n",
       "      <td>NaN</td>\n",
       "      <td>Primer dia del ano</td>\n",
       "      <td>2013</td>\n",
       "      <td>1</td>\n",
       "    </tr>\n",
       "    <tr>\n",
       "      <th>2013-01-01</th>\n",
       "      <td>1</td>\n",
       "      <td>BABY CARE</td>\n",
       "      <td>0.0</td>\n",
       "      <td>0</td>\n",
       "      <td>Pichincha</td>\n",
       "      <td>D</td>\n",
       "      <td>13</td>\n",
       "      <td>Primer dia del ano</td>\n",
       "      <td>NaN</td>\n",
       "      <td>Primer dia del ano</td>\n",
       "      <td>2013</td>\n",
       "      <td>1</td>\n",
       "    </tr>\n",
       "    <tr>\n",
       "      <th>2013-01-01</th>\n",
       "      <td>1</td>\n",
       "      <td>BEAUTY</td>\n",
       "      <td>0.0</td>\n",
       "      <td>0</td>\n",
       "      <td>Pichincha</td>\n",
       "      <td>D</td>\n",
       "      <td>13</td>\n",
       "      <td>Primer dia del ano</td>\n",
       "      <td>NaN</td>\n",
       "      <td>Primer dia del ano</td>\n",
       "      <td>2013</td>\n",
       "      <td>1</td>\n",
       "    </tr>\n",
       "    <tr>\n",
       "      <th>2013-01-01</th>\n",
       "      <td>1</td>\n",
       "      <td>BEVERAGES</td>\n",
       "      <td>0.0</td>\n",
       "      <td>0</td>\n",
       "      <td>Pichincha</td>\n",
       "      <td>D</td>\n",
       "      <td>13</td>\n",
       "      <td>Primer dia del ano</td>\n",
       "      <td>NaN</td>\n",
       "      <td>Primer dia del ano</td>\n",
       "      <td>2013</td>\n",
       "      <td>1</td>\n",
       "    </tr>\n",
       "    <tr>\n",
       "      <th>2013-01-01</th>\n",
       "      <td>1</td>\n",
       "      <td>BOOKS</td>\n",
       "      <td>0.0</td>\n",
       "      <td>0</td>\n",
       "      <td>Pichincha</td>\n",
       "      <td>D</td>\n",
       "      <td>13</td>\n",
       "      <td>Primer dia del ano</td>\n",
       "      <td>NaN</td>\n",
       "      <td>Primer dia del ano</td>\n",
       "      <td>2013</td>\n",
       "      <td>1</td>\n",
       "    </tr>\n",
       "  </tbody>\n",
       "</table>\n",
       "</div>"
      ]
     },
     "execution_count": 195,
     "metadata": {},
     "output_type": "execute_result"
    }
   ],
   "execution_count": 195
  },
  {
   "cell_type": "markdown",
   "id": "26717196-730c-4041-8d6a-a9d8eec945ec",
   "metadata": {},
   "source": [
    "# Basic Data Exploration"
   ]
  },
  {
   "cell_type": "code",
   "id": "99627ab1-5841-4110-9a2e-8f48d2da478f",
   "metadata": {
    "ExecuteTime": {
     "end_time": "2025-01-06T16:27:58.318518Z",
     "start_time": "2025-01-06T16:27:58.168298Z"
    }
   },
   "source": [
    "train = train[train['sales']!=0]"
   ],
   "outputs": [],
   "execution_count": 196
  },
  {
   "cell_type": "code",
   "id": "7c6f1be8-eeec-432e-ae63-f5672df2326b",
   "metadata": {
    "ExecuteTime": {
     "end_time": "2025-01-06T16:27:58.411228Z",
     "start_time": "2025-01-06T16:27:58.344994Z"
    }
   },
   "source": [
    "train[\"sales\"].describe()"
   ],
   "outputs": [
    {
     "data": {
      "text/plain": [
       "count    2.061758e+06\n",
       "mean     5.207425e+02\n",
       "std      1.297187e+03\n",
       "min      1.220000e-01\n",
       "25%      9.000000e+00\n",
       "50%      7.846250e+01\n",
       "75%      3.880000e+02\n",
       "max      1.247170e+05\n",
       "Name: sales, dtype: float64"
      ]
     },
     "execution_count": 197,
     "metadata": {},
     "output_type": "execute_result"
    }
   ],
   "execution_count": 197
  },
  {
   "cell_type": "code",
   "id": "7084eb0f-a5b1-4d97-95a8-ef339f22f0bc",
   "metadata": {
    "ExecuteTime": {
     "end_time": "2025-01-06T16:27:58.685630Z",
     "start_time": "2025-01-06T16:27:58.447567Z"
    }
   },
   "source": [
    "correlation=train.corr(numeric_only=True)"
   ],
   "outputs": [],
   "execution_count": 198
  },
  {
   "cell_type": "code",
   "id": "21f13d7e-21fb-40a7-9308-60ecf90a2620",
   "metadata": {
    "ExecuteTime": {
     "end_time": "2025-01-06T16:27:58.715707Z",
     "start_time": "2025-01-06T16:27:58.710495Z"
    }
   },
   "source": [
    "correlation[\"sales\"].sort_values(ascending=False)"
   ],
   "outputs": [
    {
     "data": {
      "text/plain": [
       "sales          1.000000\n",
       "onpromotion    0.410608\n",
       "store_nbr      0.061742\n",
       "cluster        0.038872\n",
       "year           0.028285\n",
       "month          0.012308\n",
       "oil_price     -0.030120\n",
       "Name: sales, dtype: float64"
      ]
     },
     "execution_count": 199,
     "metadata": {},
     "output_type": "execute_result"
    }
   ],
   "execution_count": 199
  },
  {
   "cell_type": "code",
   "id": "708bc3b8-d5fc-4f00-89de-27f9a0343b7c",
   "metadata": {
    "ExecuteTime": {
     "end_time": "2025-01-06T16:28:00.515028Z",
     "start_time": "2025-01-06T16:27:58.758793Z"
    }
   },
   "source": [
    "train.hist(bins=100, figsize=(12,8))\n",
    "plt.show"
   ],
   "outputs": [
    {
     "data": {
      "text/plain": [
       "<function matplotlib.pyplot.show(close=None, block=None)>"
      ]
     },
     "execution_count": 200,
     "metadata": {},
     "output_type": "execute_result"
    },
    {
     "data": {
      "text/plain": [
       "<Figure size 1200x800 with 9 Axes>"
      ],
      "image/png": "[encoded data removed]"
     },
     "metadata": {},
     "output_type": "display_data"
    }
   ],
   "execution_count": 200
  },
  {
   "cell_type": "markdown",
   "id": "af401cf0-aeb2-495e-b21d-31c9b5657586",
   "metadata": {},
   "source": [
    "Dieser Plot zeigt, dass es überverhältnismäßig viele Datensätze gibt, bei denen sales = 0 ist. Diese Beobachtung könnte sich durch 2 Gründe erklären lassen.\n",
    "(1) Stores werden auch aufgeführt, bevor sie eröffnet haben.\n",
    "(2) Es gibt Stores, welche verschiedene Produktfamilien überhaupt nicht anbieten."
   ]
  },
  {
   "cell_type": "markdown",
   "id": "6bebe3ff-9ea7-4060-bf7b-6f065ce36408",
   "metadata": {},
   "source": [
    "# Data-Splitting"
   ]
  },
  {
   "cell_type": "code",
   "id": "3f409a35-fb57-4a5d-8aaf-ff2993f5d0e5",
   "metadata": {
    "ExecuteTime": {
     "end_time": "2025-01-06T16:28:01.073164Z",
     "start_time": "2025-01-06T16:28:00.540489Z"
    }
   },
   "source": [
    "# 'new' data as validation set\n",
    "validation_set=test \n",
    "# original training set is split into train and test data, each store type is equally represented\n",
    "train_set, test_set= np.split(train, [int(.8 *len(train))])"
   ],
   "outputs": [
    {
     "name": "stderr",
     "output_type": "stream",
     "text": [
      "/home/niklas/.cache/pypoetry/virtualenvs/ml-projects-uLAoRIfS-py3.12/lib/python3.12/site-packages/numpy/_core/fromnumeric.py:57: FutureWarning: 'DataFrame.swapaxes' is deprecated and will be removed in a future version. Please use 'DataFrame.transpose' instead.\n",
      "  return bound(*args, **kwds)\n"
     ]
    }
   ],
   "execution_count": 201
  },
  {
   "cell_type": "code",
   "id": "ded788ab-c064-4d95-a37a-a704b1ce4bc4",
   "metadata": {
    "scrolled": true,
    "ExecuteTime": {
     "end_time": "2025-01-06T16:28:01.172563Z",
     "start_time": "2025-01-06T16:28:01.077691Z"
    }
   },
   "source": [
    "training_features = train_set.drop(\"sales\", axis=1)\n",
    "training_labels = train_set[\"sales\"].copy()\n",
    "\n",
    "testing_features = test_set.drop(\"sales\", axis=1)\n",
    "testing_labels = test_set[\"sales\"].copy()\n",
    "\n",
    "training_features=training_features[:200000]\n",
    "training_labels= training_labels[:200000]\n",
    "\n",
    "testing_features=testing_features[:40000]\n",
    "testing_labels= testing_labels[:40000]\n"
   ],
   "outputs": [],
   "execution_count": 202
  },
  {
   "cell_type": "code",
   "id": "62e43ef7-dbf3-4778-850b-e42fd76c1d11",
   "metadata": {
    "ExecuteTime": {
     "end_time": "2025-01-06T16:28:01.185627Z",
     "start_time": "2025-01-06T16:28:01.178172Z"
    }
   },
   "source": [
    "training_features.head()"
   ],
   "outputs": [
    {
     "data": {
      "text/plain": [
       "            store_nbr        family  onpromotion        state type_x  cluster  \\\n",
       "date                                                                            \n",
       "2013-01-01         25        BEAUTY            0  Santa Elena      D        1   \n",
       "2013-01-01         25     BEVERAGES            0  Santa Elena      D        1   \n",
       "2013-01-01         25  BREAD/BAKERY            0  Santa Elena      D        1   \n",
       "2013-01-01         25      CLEANING            0  Santa Elena      D        1   \n",
       "2013-01-01         25         DAIRY            0  Santa Elena      D        1   \n",
       "\n",
       "                   description  oil_price             holiday  year  month  \n",
       "date                                                                        \n",
       "2013-01-01  Primer dia del ano        NaN  Primer dia del ano  2013      1  \n",
       "2013-01-01  Primer dia del ano        NaN  Primer dia del ano  2013      1  \n",
       "2013-01-01  Primer dia del ano        NaN  Primer dia del ano  2013      1  \n",
       "2013-01-01  Primer dia del ano        NaN  Primer dia del ano  2013      1  \n",
       "2013-01-01  Primer dia del ano        NaN  Primer dia del ano  2013      1  "
      ],
      "text/html": [
       "<div>\n",
       "<style scoped>\n",
       "    .dataframe tbody tr th:only-of-type {\n",
       "        vertical-align: middle;\n",
       "    }\n",
       "\n",
       "    .dataframe tbody tr th {\n",
       "        vertical-align: top;\n",
       "    }\n",
       "\n",
       "    .dataframe thead th {\n",
       "        text-align: right;\n",
       "    }\n",
       "</style>\n",
       "<table border=\"1\" class=\"dataframe\">\n",
       "  <thead>\n",
       "    <tr style=\"text-align: right;\">\n",
       "      <th></th>\n",
       "      <th>store_nbr</th>\n",
       "      <th>family</th>\n",
       "      <th>onpromotion</th>\n",
       "      <th>state</th>\n",
       "      <th>type_x</th>\n",
       "      <th>cluster</th>\n",
       "      <th>description</th>\n",
       "      <th>oil_price</th>\n",
       "      <th>holiday</th>\n",
       "      <th>year</th>\n",
       "      <th>month</th>\n",
       "    </tr>\n",
       "    <tr>\n",
       "      <th>date</th>\n",
       "      <th></th>\n",
       "      <th></th>\n",
       "      <th></th>\n",
       "      <th></th>\n",
       "      <th></th>\n",
       "      <th></th>\n",
       "      <th></th>\n",
       "      <th></th>\n",
       "      <th></th>\n",
       "      <th></th>\n",
       "      <th></th>\n",
       "    </tr>\n",
       "  </thead>\n",
       "  <tbody>\n",
       "    <tr>\n",
       "      <th>2013-01-01</th>\n",
       "      <td>25</td>\n",
       "      <td>BEAUTY</td>\n",
       "      <td>0</td>\n",
       "      <td>Santa Elena</td>\n",
       "      <td>D</td>\n",
       "      <td>1</td>\n",
       "      <td>Primer dia del ano</td>\n",
       "      <td>NaN</td>\n",
       "      <td>Primer dia del ano</td>\n",
       "      <td>2013</td>\n",
       "      <td>1</td>\n",
       "    </tr>\n",
       "    <tr>\n",
       "      <th>2013-01-01</th>\n",
       "      <td>25</td>\n",
       "      <td>BEVERAGES</td>\n",
       "      <td>0</td>\n",
       "      <td>Santa Elena</td>\n",
       "      <td>D</td>\n",
       "      <td>1</td>\n",
       "      <td>Primer dia del ano</td>\n",
       "      <td>NaN</td>\n",
       "      <td>Primer dia del ano</td>\n",
       "      <td>2013</td>\n",
       "      <td>1</td>\n",
       "    </tr>\n",
       "    <tr>\n",
       "      <th>2013-01-01</th>\n",
       "      <td>25</td>\n",
       "      <td>BREAD/BAKERY</td>\n",
       "      <td>0</td>\n",
       "      <td>Santa Elena</td>\n",
       "      <td>D</td>\n",
       "      <td>1</td>\n",
       "      <td>Primer dia del ano</td>\n",
       "      <td>NaN</td>\n",
       "      <td>Primer dia del ano</td>\n",
       "      <td>2013</td>\n",
       "      <td>1</td>\n",
       "    </tr>\n",
       "    <tr>\n",
       "      <th>2013-01-01</th>\n",
       "      <td>25</td>\n",
       "      <td>CLEANING</td>\n",
       "      <td>0</td>\n",
       "      <td>Santa Elena</td>\n",
       "      <td>D</td>\n",
       "      <td>1</td>\n",
       "      <td>Primer dia del ano</td>\n",
       "      <td>NaN</td>\n",
       "      <td>Primer dia del ano</td>\n",
       "      <td>2013</td>\n",
       "      <td>1</td>\n",
       "    </tr>\n",
       "    <tr>\n",
       "      <th>2013-01-01</th>\n",
       "      <td>25</td>\n",
       "      <td>DAIRY</td>\n",
       "      <td>0</td>\n",
       "      <td>Santa Elena</td>\n",
       "      <td>D</td>\n",
       "      <td>1</td>\n",
       "      <td>Primer dia del ano</td>\n",
       "      <td>NaN</td>\n",
       "      <td>Primer dia del ano</td>\n",
       "      <td>2013</td>\n",
       "      <td>1</td>\n",
       "    </tr>\n",
       "  </tbody>\n",
       "</table>\n",
       "</div>"
      ]
     },
     "execution_count": 203,
     "metadata": {},
     "output_type": "execute_result"
    }
   ],
   "execution_count": 203
  },
  {
   "cell_type": "markdown",
   "id": "3531a90f-d0b2-44c5-8e5b-64ac18dcfcf0",
   "metadata": {},
   "source": [
    "# Preprocessing\n",
    "Hier werden NaN Values entfernt, Daten skaliert und Datentypen so transformiert, dass ML-Algorithmen damit arbeiten können."
   ]
  },
  {
   "cell_type": "code",
   "id": "f61484ce-af1d-432e-a4d7-3abce7f2c77f",
   "metadata": {
    "ExecuteTime": {
     "end_time": "2025-01-06T16:28:01.258204Z",
     "start_time": "2025-01-06T16:28:01.253699Z"
    }
   },
   "source": [
    "poly_cat_pipe=Pipeline([(\"Imputer\", SimpleImputer(strategy=\"most_frequent\")),\n",
    "                    (\"Encoder\", OneHotEncoder(handle_unknown=\"ignore\")),\n",
    "                    (\"Poly\", PolynomialFeatures(degree=3, include_bias=False))]\n",
    "                 )\n",
    "poly_holiday_pipe=Pipeline([(\"Imputer\", SimpleImputer(fill_value=\"no holiday\", strategy='constant')),\n",
    "                      (\"Encoder\", OneHotEncoder(handle_unknown=\"ignore\")),\n",
    "                      (\"Poly\", PolynomialFeatures(degree=3, include_bias=False))]\n",
    "                     )\n",
    "poly_num_pipe=Pipeline([(\"Imputer\", SimpleImputer(strategy=\"mean\")),\n",
    "                   (\"Poly\", PolynomialFeatures(degree=3, include_bias=False)),\n",
    "                   (\"Scaler\", StandardScaler())]\n",
    "                 )\n",
    "\n",
    "cat_pipe=Pipeline([(\"Imputer\", SimpleImputer(strategy=\"most_frequent\")),\n",
    "                      (\"Encoder\", OneHotEncoder(handle_unknown=\"ignore\"))]\n",
    "                     )\n",
    "holiday_pipe=Pipeline([(\"Imputer\", SimpleImputer(fill_value=\"no holiday\", strategy='constant')),\n",
    "                      (\"Encoder\", OneHotEncoder(handle_unknown=\"ignore\"))]\n",
    "                     )\n",
    "num_pipe=Pipeline([(\"Imputer\", SimpleImputer(strategy=\"mean\")),\n",
    "                      (\"Scaler\", StandardScaler())]\n",
    "                     )\n"
   ],
   "outputs": [],
   "execution_count": 204
  },
  {
   "cell_type": "code",
   "id": "998b18f5-9022-4fdc-9531-d38420f0f151",
   "metadata": {
    "ExecuteTime": {
     "end_time": "2025-01-06T16:28:01.303427Z",
     "start_time": "2025-01-06T16:28:01.297218Z"
    }
   },
   "source": [
    "preprocessing= ColumnTransformer([\n",
    "    (\"holiday\", holiday_pipe, make_column_selector(pattern=\"holiday\")),\n",
    "    (\"cat\", cat_pipe, make_column_selector(dtype_include=object)),\n",
    "    ], remainder=num_pipe)\n",
    "\n",
    "poly_pre=ColumnTransformer([\n",
    "           (\"holiday\", \"drop\", make_column_selector(pattern=\"holiday\")),\n",
    "            (\"cat\", \"drop\", make_column_selector(dtype_include=object))\n",
    "            ], remainder= poly_num_pipe)\n"
   ],
   "outputs": [],
   "execution_count": 205
  },
  {
   "cell_type": "markdown",
   "id": "57107071-d369-4ef1-9353-bf6bf09bdba2",
   "metadata": {},
   "source": [
    "# Model Vorauswahl"
   ]
  },
  {
   "cell_type": "code",
   "id": "5a54bf7b-d277-4592-96f9-564dddb2ce14",
   "metadata": {
    "ExecuteTime": {
     "end_time": "2025-01-06T16:28:01.356114Z",
     "start_time": "2025-01-06T16:28:01.353221Z"
    }
   },
   "source": [
    "#creating models\n",
    "rf_model = RandomForestRegressor(random_state=42, max_depth=5)\n",
    "dt_model = DecisionTreeRegressor(random_state=42, max_depth=3)\n",
    "ridge_sgd_model = RidgeCV()\n",
    "ridge_poly_model = RidgeCV()\n",
    "\n",
    "models={'Decision Tree Model':dt_model,  ' Ridge SGD Regressor': ridge_sgd_model, 'Ridge Poly Model' : ridge_poly_model, 'Random Forest Regressor':rf_model}\n"
   ],
   "outputs": [],
   "execution_count": 206
  },
  {
   "cell_type": "code",
   "id": "738bb052-59dd-4645-a134-c4a5bba35e11",
   "metadata": {
    "ExecuteTime": {
     "end_time": "2025-01-06T16:28:30.605547Z",
     "start_time": "2025-01-06T16:28:01.384178Z"
    }
   },
   "source": [
    "for name, model in models.items():\n",
    "\n",
    "    if name in (\"Ridge Poly Model\", \"Elastic Net Poly Model\"):\n",
    "        model_pipe=make_pipeline( poly_pre, model)        \n",
    "    else:\n",
    "        model_pipe=make_pipeline(preprocessing, model)\n",
    "        \n",
    "    model_pipe.fit(training_features, training_labels)\n",
    "    rmse_train=root_mean_squared_error(training_labels, model_pipe.predict(training_features))\n",
    "    rmse_test=root_mean_squared_error(testing_labels, model_pipe.predict(testing_features))\n",
    "    print(f\"Root-Mean-Squared-Error on Training Data/Testing Data of the {name} is {rmse_train:.2f}/ {rmse_test:.2f}\")"
   ],
   "outputs": [
    {
     "name": "stdout",
     "output_type": "stream",
     "text": [
      "Root-Mean-Squared-Error on Training Data/Testing Data of the Decision Tree Model is 454.03/ 1130.24\n",
      "Root-Mean-Squared-Error on Training Data/Testing Data of the  Ridge SGD Regressor is 515.56/ 1194.76\n",
      "Root-Mean-Squared-Error on Training Data/Testing Data of the Ridge Poly Model is 925.03/ 5705.21\n",
      "Root-Mean-Squared-Error on Training Data/Testing Data of the Random Forest Regressor is 354.00/ 1093.03\n"
     ]
    }
   ],
   "execution_count": 207
  },
  {
   "cell_type": "code",
   "id": "6768f296-90b8-4f93-94e3-a909a0c7f50b",
   "metadata": {
    "ExecuteTime": {
     "end_time": "2025-01-06T16:28:30.655184Z",
     "start_time": "2025-01-06T16:28:30.652760Z"
    }
   },
   "source": [
    "candidate_model=Pipeline([\n",
    "    (\"preprocessing\", preprocessing),\n",
    "    (\"random_forest\", RandomForestRegressor(max_depth=5, random_state=42))\n",
    "     ])"
   ],
   "outputs": [],
   "execution_count": 208
  },
  {
   "cell_type": "code",
   "id": "b96d7f26-e132-4737-a983-2f0804270444",
   "metadata": {
    "ExecuteTime": {
     "end_time": "2025-01-06T16:28:36.843526Z",
     "start_time": "2025-01-06T16:28:30.700357Z"
    }
   },
   "source": [
    "candidate_rmses=-cross_val_score(candidate_model, testing_features, testing_labels, scoring=\"neg_root_mean_squared_error\", cv=3)\n",
    "pd.Series(candidate_rmses).describe()"
   ],
   "outputs": [
    {
     "name": "stderr",
     "output_type": "stream",
     "text": [
      "/home/niklas/.cache/pypoetry/virtualenvs/ml-projects-uLAoRIfS-py3.12/lib/python3.12/site-packages/sklearn/impute/_base.py:572: FutureWarning: Currently, when `keep_empty_feature=False` and `strategy=\"constant\"`, empty features are not dropped. This behaviour will change in version 1.8. Set `keep_empty_feature=True` to preserve this behaviour.\n",
      "  warnings.warn(\n",
      "/home/niklas/.cache/pypoetry/virtualenvs/ml-projects-uLAoRIfS-py3.12/lib/python3.12/site-packages/sklearn/impute/_base.py:635: UserWarning: Skipping features without any observed values: ['description' 'holiday']. At least one non-missing value is needed for imputation with strategy='most_frequent'.\n",
      "  warnings.warn(\n",
      "/home/niklas/.cache/pypoetry/virtualenvs/ml-projects-uLAoRIfS-py3.12/lib/python3.12/site-packages/sklearn/impute/_base.py:635: UserWarning: Skipping features without any observed values: ['description' 'holiday']. At least one non-missing value is needed for imputation with strategy='most_frequent'.\n",
      "  warnings.warn(\n",
      "/home/niklas/.cache/pypoetry/virtualenvs/ml-projects-uLAoRIfS-py3.12/lib/python3.12/site-packages/sklearn/impute/_base.py:572: FutureWarning: Currently, when `keep_empty_feature=False` and `strategy=\"constant\"`, empty features are not dropped. This behaviour will change in version 1.8. Set `keep_empty_feature=True` to preserve this behaviour.\n",
      "  warnings.warn(\n",
      "/home/niklas/.cache/pypoetry/virtualenvs/ml-projects-uLAoRIfS-py3.12/lib/python3.12/site-packages/sklearn/impute/_base.py:635: UserWarning: Skipping features without any observed values: ['description' 'holiday']. At least one non-missing value is needed for imputation with strategy='most_frequent'.\n",
      "  warnings.warn(\n",
      "/home/niklas/.cache/pypoetry/virtualenvs/ml-projects-uLAoRIfS-py3.12/lib/python3.12/site-packages/sklearn/impute/_base.py:635: UserWarning: Skipping features without any observed values: ['description' 'holiday']. At least one non-missing value is needed for imputation with strategy='most_frequent'.\n",
      "  warnings.warn(\n",
      "/home/niklas/.cache/pypoetry/virtualenvs/ml-projects-uLAoRIfS-py3.12/lib/python3.12/site-packages/sklearn/impute/_base.py:572: FutureWarning: Currently, when `keep_empty_feature=False` and `strategy=\"constant\"`, empty features are not dropped. This behaviour will change in version 1.8. Set `keep_empty_feature=True` to preserve this behaviour.\n",
      "  warnings.warn(\n",
      "/home/niklas/.cache/pypoetry/virtualenvs/ml-projects-uLAoRIfS-py3.12/lib/python3.12/site-packages/sklearn/impute/_base.py:635: UserWarning: Skipping features without any observed values: ['description' 'holiday']. At least one non-missing value is needed for imputation with strategy='most_frequent'.\n",
      "  warnings.warn(\n",
      "/home/niklas/.cache/pypoetry/virtualenvs/ml-projects-uLAoRIfS-py3.12/lib/python3.12/site-packages/sklearn/impute/_base.py:635: UserWarning: Skipping features without any observed values: ['description' 'holiday']. At least one non-missing value is needed for imputation with strategy='most_frequent'.\n",
      "  warnings.warn(\n"
     ]
    },
    {
     "data": {
      "text/plain": [
       "count      3.000000\n",
       "mean     683.468431\n",
       "std      104.495247\n",
       "min      563.403477\n",
       "25%      648.266589\n",
       "50%      733.129701\n",
       "75%      743.500907\n",
       "max      753.872113\n",
       "dtype: float64"
      ]
     },
     "execution_count": 209,
     "metadata": {},
     "output_type": "execute_result"
    }
   ],
   "execution_count": 209
  },
  {
   "cell_type": "code",
   "id": "c4672dc8-db57-4b9c-b8ee-c097259b518f",
   "metadata": {
    "ExecuteTime": {
     "end_time": "2025-01-06T16:28:36.879109Z",
     "start_time": "2025-01-06T16:28:36.875650Z"
    }
   },
   "source": [
    "final_model=Pipeline([\n",
    "    (\"preprocessing\", preprocessing),\n",
    "    (\"random_forest\", RandomForestRegressor(max_depth=15, n_estimators=146, max_features=53, random_state=42))\n",
    "     ])"
   ],
   "outputs": [],
   "execution_count": 210
  },
  {
   "cell_type": "code",
   "id": "4b596926-a301-4041-9462-bda667ca2781",
   "metadata": {
    "jupyter": {
     "is_executing": true
    },
    "ExecuteTime": {
     "start_time": "2025-01-06T16:28:36.919365Z"
    }
   },
   "source": [
    "forest_rmses=-cross_val_score(final_model, testing_features, testing_labels, scoring=\"neg_root_mean_squared_error\", cv=3)\n",
    "pd.Series(forest_rmses).describe()"
   ],
   "outputs": [
    {
     "name": "stderr",
     "output_type": "stream",
     "text": [
      "/home/niklas/.cache/pypoetry/virtualenvs/ml-projects-uLAoRIfS-py3.12/lib/python3.12/site-packages/sklearn/impute/_base.py:572: FutureWarning: Currently, when `keep_empty_feature=False` and `strategy=\"constant\"`, empty features are not dropped. This behaviour will change in version 1.8. Set `keep_empty_feature=True` to preserve this behaviour.\n",
      "  warnings.warn(\n",
      "/home/niklas/.cache/pypoetry/virtualenvs/ml-projects-uLAoRIfS-py3.12/lib/python3.12/site-packages/sklearn/impute/_base.py:635: UserWarning: Skipping features without any observed values: ['description' 'holiday']. At least one non-missing value is needed for imputation with strategy='most_frequent'.\n",
      "  warnings.warn(\n"
     ]
    }
   ],
   "execution_count": null
  },
  {
   "cell_type": "code",
   "id": "bdeb4870-f12b-4bd2-a6bb-1806762b70f8",
   "metadata": {},
   "source": [],
   "outputs": [],
   "execution_count": null
  }
 ],
 "metadata": {
  "kernelspec": {
   "display_name": "Python 3 (ipykernel)",
   "language": "python",
   "name": "python3"
  },
  "language_info": {
   "codemirror_mode": {
    "name": "ipython",
    "version": 3
   },
   "file_extension": ".py",
   "mimetype": "text/x-python",
   "name": "python",
   "nbconvert_exporter": "python",
   "pygments_lexer": "ipython3",
   "version": "3.11.3"
  }
 },
 "nbformat": 4,
 "nbformat_minor": 5
}
