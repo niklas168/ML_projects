{
 "cells": [
  {
   "cell_type": "code",
   "execution_count": 1,
   "id": "3ca282cb-0a32-444d-b38a-f3837aa6d2df",
   "metadata": {},
   "outputs": [],
   "source": [
    "import pandas as pd\n",
    "import matplotlib.pyplot as plt\n",
    "import math\n",
    "from sklearn.model_selection import train_test_split\n",
    "from sklearn.preprocessing import OneHotEncoder, MinMaxScaler, StandardScaler, FunctionTransformer\n",
    "from sklearn.impute import SimpleImputer\n",
    "from sklearn.pipeline import Pipeline\n",
    "from sklearn.compose import make_column_selector, ColumnTransformer\n",
    "from sklearn.metrics import mean_squared_error"
   ]
  },
  {
   "cell_type": "code",
   "execution_count": 2,
   "id": "a9c1006a-f01c-4bbc-8b0b-1dfa06e33de4",
   "metadata": {},
   "outputs": [],
   "source": [
    "from sklearn.linear_model import LinearRegression\n",
    "from sklearn.tree import DecisionTreeRegressor\n",
    "from sklearn.ensemble import RandomForestRegressor\n",
    "from sklearn.svm import SVR"
   ]
  },
  {
   "cell_type": "code",
   "execution_count": 3,
   "id": "21a98c0f-6e83-41d9-abf1-92da2402071d",
   "metadata": {},
   "outputs": [],
   "source": [
    "train=pd.read_csv(\"downloads/store-sales-time-series-forecasting/train.csv\")\n",
    "test=pd.read_csv(\"downloads/store-sales-time-series-forecasting/test.csv\")\n",
    "holiday_events=pd.read_csv(\"downloads/store-sales-time-series-forecasting/holidays_events.csv\")\n",
    "oil=pd.read_csv(\"downloads/store-sales-time-series-forecasting/oil.csv\")\n",
    "stores=pd.read_csv(\"downloads/store-sales-time-series-forecasting/stores.csv\")"
   ]
  },
  {
   "cell_type": "markdown",
   "id": "000786f7-ce10-4d2d-90b4-a4a6cc396429",
   "metadata": {},
   "source": [
    "# Kennelernen des Datasets\n",
    "## train.csv"
   ]
  },
  {
   "cell_type": "code",
   "execution_count": 4,
   "id": "3bdd4533-9614-4bfe-838a-0c074b445864",
   "metadata": {},
   "outputs": [
    {
     "name": "stdout",
     "output_type": "stream",
     "text": [
      "<class 'pandas.core.frame.DataFrame'>\n",
      "RangeIndex: 3000888 entries, 0 to 3000887\n",
      "Data columns (total 6 columns):\n",
      " #   Column       Dtype  \n",
      "---  ------       -----  \n",
      " 0   id           int64  \n",
      " 1   date         object \n",
      " 2   store_nbr    int64  \n",
      " 3   family       object \n",
      " 4   sales        float64\n",
      " 5   onpromotion  int64  \n",
      "dtypes: float64(1), int64(3), object(2)\n",
      "memory usage: 137.4+ MB\n"
     ]
    }
   ],
   "source": [
    "train.info()"
   ]
  },
  {
   "cell_type": "code",
   "execution_count": 5,
   "id": "81f15593-9ad8-4813-898f-b11d4928e6d6",
   "metadata": {},
   "outputs": [
    {
     "data": {
      "text/html": [
       "<div>\n",
       "<style scoped>\n",
       "    .dataframe tbody tr th:only-of-type {\n",
       "        vertical-align: middle;\n",
       "    }\n",
       "\n",
       "    .dataframe tbody tr th {\n",
       "        vertical-align: top;\n",
       "    }\n",
       "\n",
       "    .dataframe thead th {\n",
       "        text-align: right;\n",
       "    }\n",
       "</style>\n",
       "<table border=\"1\" class=\"dataframe\">\n",
       "  <thead>\n",
       "    <tr style=\"text-align: right;\">\n",
       "      <th></th>\n",
       "      <th>id</th>\n",
       "      <th>date</th>\n",
       "      <th>store_nbr</th>\n",
       "      <th>family</th>\n",
       "      <th>sales</th>\n",
       "      <th>onpromotion</th>\n",
       "    </tr>\n",
       "  </thead>\n",
       "  <tbody>\n",
       "    <tr>\n",
       "      <th>0</th>\n",
       "      <td>0</td>\n",
       "      <td>2013-01-01</td>\n",
       "      <td>1</td>\n",
       "      <td>AUTOMOTIVE</td>\n",
       "      <td>0.0</td>\n",
       "      <td>0</td>\n",
       "    </tr>\n",
       "    <tr>\n",
       "      <th>1</th>\n",
       "      <td>1</td>\n",
       "      <td>2013-01-01</td>\n",
       "      <td>1</td>\n",
       "      <td>BABY CARE</td>\n",
       "      <td>0.0</td>\n",
       "      <td>0</td>\n",
       "    </tr>\n",
       "    <tr>\n",
       "      <th>2</th>\n",
       "      <td>2</td>\n",
       "      <td>2013-01-01</td>\n",
       "      <td>1</td>\n",
       "      <td>BEAUTY</td>\n",
       "      <td>0.0</td>\n",
       "      <td>0</td>\n",
       "    </tr>\n",
       "    <tr>\n",
       "      <th>3</th>\n",
       "      <td>3</td>\n",
       "      <td>2013-01-01</td>\n",
       "      <td>1</td>\n",
       "      <td>BEVERAGES</td>\n",
       "      <td>0.0</td>\n",
       "      <td>0</td>\n",
       "    </tr>\n",
       "    <tr>\n",
       "      <th>4</th>\n",
       "      <td>4</td>\n",
       "      <td>2013-01-01</td>\n",
       "      <td>1</td>\n",
       "      <td>BOOKS</td>\n",
       "      <td>0.0</td>\n",
       "      <td>0</td>\n",
       "    </tr>\n",
       "  </tbody>\n",
       "</table>\n",
       "</div>"
      ],
      "text/plain": [
       "   id        date  store_nbr      family  sales  onpromotion\n",
       "0   0  2013-01-01          1  AUTOMOTIVE    0.0            0\n",
       "1   1  2013-01-01          1   BABY CARE    0.0            0\n",
       "2   2  2013-01-01          1      BEAUTY    0.0            0\n",
       "3   3  2013-01-01          1   BEVERAGES    0.0            0\n",
       "4   4  2013-01-01          1       BOOKS    0.0            0"
      ]
     },
     "execution_count": 5,
     "metadata": {},
     "output_type": "execute_result"
    }
   ],
   "source": [
    "train.head()"
   ]
  },
  {
   "cell_type": "markdown",
   "id": "06e2a5cc-a3f4-45a5-b53d-6362a9be48b0",
   "metadata": {},
   "source": [
    "In der Tabelle der Trainingsdaten sind schon einige interessante features für die Voraussage der Sales vorhanden. Schauen wir uns einmal die übrigen Tabellen an, um eventuell weitere relevante Informationen in das Modell mit einzubeziehen."
   ]
  },
  {
   "cell_type": "markdown",
   "id": "e7071091-04ed-43c3-b20c-f7aa24a0e303",
   "metadata": {},
   "source": [
    "## oil.csv\n",
    "Diese Tabelle hat Informationen über die Ölpreise gespeichert. Diese Informationen könnten nützlich sein, da Ecuadors Wirtschaft stark abhängig von den Ölpreisen ist."
   ]
  },
  {
   "cell_type": "code",
   "execution_count": 6,
   "id": "62096d69-5409-46b1-a34e-e77a6029017c",
   "metadata": {},
   "outputs": [
    {
     "name": "stdout",
     "output_type": "stream",
     "text": [
      "<class 'pandas.core.frame.DataFrame'>\n",
      "RangeIndex: 1218 entries, 0 to 1217\n",
      "Data columns (total 2 columns):\n",
      " #   Column      Non-Null Count  Dtype  \n",
      "---  ------      --------------  -----  \n",
      " 0   date        1218 non-null   object \n",
      " 1   dcoilwtico  1175 non-null   float64\n",
      "dtypes: float64(1), object(1)\n",
      "memory usage: 19.2+ KB\n"
     ]
    }
   ],
   "source": [
    "oil.info()"
   ]
  },
  {
   "cell_type": "code",
   "execution_count": 7,
   "id": "3d25efda-fb63-4b0c-ac2d-cc7310dfe4c4",
   "metadata": {},
   "outputs": [],
   "source": [
    "train=pd.merge(train,oil, on=\"date\", how=\"left\")\n",
    "test=pd.merge(test,oil, on=\"date\", how=\"left\")"
   ]
  },
  {
   "cell_type": "code",
   "execution_count": 8,
   "id": "6f417e10-279d-4e71-9eba-ed666e23d2f4",
   "metadata": {},
   "outputs": [
    {
     "data": {
      "text/html": [
       "<div>\n",
       "<style scoped>\n",
       "    .dataframe tbody tr th:only-of-type {\n",
       "        vertical-align: middle;\n",
       "    }\n",
       "\n",
       "    .dataframe tbody tr th {\n",
       "        vertical-align: top;\n",
       "    }\n",
       "\n",
       "    .dataframe thead th {\n",
       "        text-align: right;\n",
       "    }\n",
       "</style>\n",
       "<table border=\"1\" class=\"dataframe\">\n",
       "  <thead>\n",
       "    <tr style=\"text-align: right;\">\n",
       "      <th></th>\n",
       "      <th>id</th>\n",
       "      <th>date</th>\n",
       "      <th>store_nbr</th>\n",
       "      <th>family</th>\n",
       "      <th>sales</th>\n",
       "      <th>onpromotion</th>\n",
       "      <th>dcoilwtico</th>\n",
       "    </tr>\n",
       "  </thead>\n",
       "  <tbody>\n",
       "    <tr>\n",
       "      <th>0</th>\n",
       "      <td>0</td>\n",
       "      <td>2013-01-01</td>\n",
       "      <td>1</td>\n",
       "      <td>AUTOMOTIVE</td>\n",
       "      <td>0.0</td>\n",
       "      <td>0</td>\n",
       "      <td>NaN</td>\n",
       "    </tr>\n",
       "    <tr>\n",
       "      <th>1</th>\n",
       "      <td>1</td>\n",
       "      <td>2013-01-01</td>\n",
       "      <td>1</td>\n",
       "      <td>BABY CARE</td>\n",
       "      <td>0.0</td>\n",
       "      <td>0</td>\n",
       "      <td>NaN</td>\n",
       "    </tr>\n",
       "    <tr>\n",
       "      <th>2</th>\n",
       "      <td>2</td>\n",
       "      <td>2013-01-01</td>\n",
       "      <td>1</td>\n",
       "      <td>BEAUTY</td>\n",
       "      <td>0.0</td>\n",
       "      <td>0</td>\n",
       "      <td>NaN</td>\n",
       "    </tr>\n",
       "    <tr>\n",
       "      <th>3</th>\n",
       "      <td>3</td>\n",
       "      <td>2013-01-01</td>\n",
       "      <td>1</td>\n",
       "      <td>BEVERAGES</td>\n",
       "      <td>0.0</td>\n",
       "      <td>0</td>\n",
       "      <td>NaN</td>\n",
       "    </tr>\n",
       "    <tr>\n",
       "      <th>4</th>\n",
       "      <td>4</td>\n",
       "      <td>2013-01-01</td>\n",
       "      <td>1</td>\n",
       "      <td>BOOKS</td>\n",
       "      <td>0.0</td>\n",
       "      <td>0</td>\n",
       "      <td>NaN</td>\n",
       "    </tr>\n",
       "  </tbody>\n",
       "</table>\n",
       "</div>"
      ],
      "text/plain": [
       "   id        date  store_nbr      family  sales  onpromotion  dcoilwtico\n",
       "0   0  2013-01-01          1  AUTOMOTIVE    0.0            0         NaN\n",
       "1   1  2013-01-01          1   BABY CARE    0.0            0         NaN\n",
       "2   2  2013-01-01          1      BEAUTY    0.0            0         NaN\n",
       "3   3  2013-01-01          1   BEVERAGES    0.0            0         NaN\n",
       "4   4  2013-01-01          1       BOOKS    0.0            0         NaN"
      ]
     },
     "execution_count": 8,
     "metadata": {},
     "output_type": "execute_result"
    }
   ],
   "source": [
    "train.head()"
   ]
  },
  {
   "cell_type": "markdown",
   "id": "88a86e5c-2d03-449a-9f54-f1418747a483",
   "metadata": {},
   "source": [
    "## stores.csv\n",
    "Diese Tabelle speichert Informationen über die Stores, wie die Standorte oder sogar eine Typisierung mittels Clustering."
   ]
  },
  {
   "cell_type": "code",
   "execution_count": 9,
   "id": "2dbcad52-e788-42c0-a846-85f0e2808ca1",
   "metadata": {},
   "outputs": [
    {
     "data": {
      "text/html": [
       "<div>\n",
       "<style scoped>\n",
       "    .dataframe tbody tr th:only-of-type {\n",
       "        vertical-align: middle;\n",
       "    }\n",
       "\n",
       "    .dataframe tbody tr th {\n",
       "        vertical-align: top;\n",
       "    }\n",
       "\n",
       "    .dataframe thead th {\n",
       "        text-align: right;\n",
       "    }\n",
       "</style>\n",
       "<table border=\"1\" class=\"dataframe\">\n",
       "  <thead>\n",
       "    <tr style=\"text-align: right;\">\n",
       "      <th></th>\n",
       "      <th>store_nbr</th>\n",
       "      <th>city</th>\n",
       "      <th>state</th>\n",
       "      <th>type</th>\n",
       "      <th>cluster</th>\n",
       "    </tr>\n",
       "  </thead>\n",
       "  <tbody>\n",
       "    <tr>\n",
       "      <th>0</th>\n",
       "      <td>1</td>\n",
       "      <td>Quito</td>\n",
       "      <td>Pichincha</td>\n",
       "      <td>D</td>\n",
       "      <td>13</td>\n",
       "    </tr>\n",
       "    <tr>\n",
       "      <th>1</th>\n",
       "      <td>2</td>\n",
       "      <td>Quito</td>\n",
       "      <td>Pichincha</td>\n",
       "      <td>D</td>\n",
       "      <td>13</td>\n",
       "    </tr>\n",
       "    <tr>\n",
       "      <th>2</th>\n",
       "      <td>3</td>\n",
       "      <td>Quito</td>\n",
       "      <td>Pichincha</td>\n",
       "      <td>D</td>\n",
       "      <td>8</td>\n",
       "    </tr>\n",
       "    <tr>\n",
       "      <th>3</th>\n",
       "      <td>4</td>\n",
       "      <td>Quito</td>\n",
       "      <td>Pichincha</td>\n",
       "      <td>D</td>\n",
       "      <td>9</td>\n",
       "    </tr>\n",
       "    <tr>\n",
       "      <th>4</th>\n",
       "      <td>5</td>\n",
       "      <td>Santo Domingo</td>\n",
       "      <td>Santo Domingo de los Tsachilas</td>\n",
       "      <td>D</td>\n",
       "      <td>4</td>\n",
       "    </tr>\n",
       "  </tbody>\n",
       "</table>\n",
       "</div>"
      ],
      "text/plain": [
       "   store_nbr           city                           state type  cluster\n",
       "0          1          Quito                       Pichincha    D       13\n",
       "1          2          Quito                       Pichincha    D       13\n",
       "2          3          Quito                       Pichincha    D        8\n",
       "3          4          Quito                       Pichincha    D        9\n",
       "4          5  Santo Domingo  Santo Domingo de los Tsachilas    D        4"
      ]
     },
     "execution_count": 9,
     "metadata": {},
     "output_type": "execute_result"
    }
   ],
   "source": [
    "stores.head()"
   ]
  },
  {
   "cell_type": "code",
   "execution_count": 10,
   "id": "81e3c635-3461-40bd-ae2e-ebde440b7349",
   "metadata": {},
   "outputs": [],
   "source": [
    "train=pd.merge(train,stores, on=\"store_nbr\", how=\"left\")\n",
    "test=pd.merge(test,stores, on=\"store_nbr\", how=\"left\")"
   ]
  },
  {
   "cell_type": "code",
   "execution_count": 11,
   "id": "8e4fe191-9183-4346-98b4-760667858f92",
   "metadata": {},
   "outputs": [
    {
     "data": {
      "text/html": [
       "<div>\n",
       "<style scoped>\n",
       "    .dataframe tbody tr th:only-of-type {\n",
       "        vertical-align: middle;\n",
       "    }\n",
       "\n",
       "    .dataframe tbody tr th {\n",
       "        vertical-align: top;\n",
       "    }\n",
       "\n",
       "    .dataframe thead th {\n",
       "        text-align: right;\n",
       "    }\n",
       "</style>\n",
       "<table border=\"1\" class=\"dataframe\">\n",
       "  <thead>\n",
       "    <tr style=\"text-align: right;\">\n",
       "      <th></th>\n",
       "      <th>id</th>\n",
       "      <th>date</th>\n",
       "      <th>store_nbr</th>\n",
       "      <th>family</th>\n",
       "      <th>sales</th>\n",
       "      <th>onpromotion</th>\n",
       "      <th>dcoilwtico</th>\n",
       "      <th>city</th>\n",
       "      <th>state</th>\n",
       "      <th>type</th>\n",
       "      <th>cluster</th>\n",
       "    </tr>\n",
       "  </thead>\n",
       "  <tbody>\n",
       "    <tr>\n",
       "      <th>0</th>\n",
       "      <td>0</td>\n",
       "      <td>2013-01-01</td>\n",
       "      <td>1</td>\n",
       "      <td>AUTOMOTIVE</td>\n",
       "      <td>0.0</td>\n",
       "      <td>0</td>\n",
       "      <td>NaN</td>\n",
       "      <td>Quito</td>\n",
       "      <td>Pichincha</td>\n",
       "      <td>D</td>\n",
       "      <td>13</td>\n",
       "    </tr>\n",
       "    <tr>\n",
       "      <th>1</th>\n",
       "      <td>1</td>\n",
       "      <td>2013-01-01</td>\n",
       "      <td>1</td>\n",
       "      <td>BABY CARE</td>\n",
       "      <td>0.0</td>\n",
       "      <td>0</td>\n",
       "      <td>NaN</td>\n",
       "      <td>Quito</td>\n",
       "      <td>Pichincha</td>\n",
       "      <td>D</td>\n",
       "      <td>13</td>\n",
       "    </tr>\n",
       "    <tr>\n",
       "      <th>2</th>\n",
       "      <td>2</td>\n",
       "      <td>2013-01-01</td>\n",
       "      <td>1</td>\n",
       "      <td>BEAUTY</td>\n",
       "      <td>0.0</td>\n",
       "      <td>0</td>\n",
       "      <td>NaN</td>\n",
       "      <td>Quito</td>\n",
       "      <td>Pichincha</td>\n",
       "      <td>D</td>\n",
       "      <td>13</td>\n",
       "    </tr>\n",
       "    <tr>\n",
       "      <th>3</th>\n",
       "      <td>3</td>\n",
       "      <td>2013-01-01</td>\n",
       "      <td>1</td>\n",
       "      <td>BEVERAGES</td>\n",
       "      <td>0.0</td>\n",
       "      <td>0</td>\n",
       "      <td>NaN</td>\n",
       "      <td>Quito</td>\n",
       "      <td>Pichincha</td>\n",
       "      <td>D</td>\n",
       "      <td>13</td>\n",
       "    </tr>\n",
       "    <tr>\n",
       "      <th>4</th>\n",
       "      <td>4</td>\n",
       "      <td>2013-01-01</td>\n",
       "      <td>1</td>\n",
       "      <td>BOOKS</td>\n",
       "      <td>0.0</td>\n",
       "      <td>0</td>\n",
       "      <td>NaN</td>\n",
       "      <td>Quito</td>\n",
       "      <td>Pichincha</td>\n",
       "      <td>D</td>\n",
       "      <td>13</td>\n",
       "    </tr>\n",
       "  </tbody>\n",
       "</table>\n",
       "</div>"
      ],
      "text/plain": [
       "   id        date  store_nbr      family  sales  onpromotion  dcoilwtico   \n",
       "0   0  2013-01-01          1  AUTOMOTIVE    0.0            0         NaN  \\\n",
       "1   1  2013-01-01          1   BABY CARE    0.0            0         NaN   \n",
       "2   2  2013-01-01          1      BEAUTY    0.0            0         NaN   \n",
       "3   3  2013-01-01          1   BEVERAGES    0.0            0         NaN   \n",
       "4   4  2013-01-01          1       BOOKS    0.0            0         NaN   \n",
       "\n",
       "    city      state type  cluster  \n",
       "0  Quito  Pichincha    D       13  \n",
       "1  Quito  Pichincha    D       13  \n",
       "2  Quito  Pichincha    D       13  \n",
       "3  Quito  Pichincha    D       13  \n",
       "4  Quito  Pichincha    D       13  "
      ]
     },
     "execution_count": 11,
     "metadata": {},
     "output_type": "execute_result"
    }
   ],
   "source": [
    "train.head()"
   ]
  },
  {
   "cell_type": "markdown",
   "id": "09d8145e-f447-43cf-9848-ea2f07b75403",
   "metadata": {},
   "source": [
    "## holiday_events.csv\n",
    "Letztlich werfen wir ein Blick auf die Tabelle Holiday Events, welche die Feiertage in Ecuador festhält."
   ]
  },
  {
   "cell_type": "code",
   "execution_count": 12,
   "id": "7ccb191c-69ff-4dfa-99bf-742b7aed45f1",
   "metadata": {},
   "outputs": [
    {
     "name": "stdout",
     "output_type": "stream",
     "text": [
      "<class 'pandas.core.frame.DataFrame'>\n",
      "RangeIndex: 350 entries, 0 to 349\n",
      "Data columns (total 6 columns):\n",
      " #   Column       Non-Null Count  Dtype \n",
      "---  ------       --------------  ----- \n",
      " 0   date         350 non-null    object\n",
      " 1   type         350 non-null    object\n",
      " 2   locale       350 non-null    object\n",
      " 3   locale_name  350 non-null    object\n",
      " 4   description  350 non-null    object\n",
      " 5   transferred  350 non-null    bool  \n",
      "dtypes: bool(1), object(5)\n",
      "memory usage: 14.1+ KB\n"
     ]
    }
   ],
   "source": [
    "holiday_events.info()"
   ]
  },
  {
   "cell_type": "markdown",
   "id": "2ac510bf-99c0-4091-932b-7cad9042774f",
   "metadata": {},
   "source": [
    "Der Einfachheit wegen, begrenzen wir uns ausschließlich auf nationale Feiertage. "
   ]
  },
  {
   "cell_type": "code",
   "execution_count": 13,
   "id": "2668f136-b7e2-47c0-9f32-c0ce6b4768e5",
   "metadata": {},
   "outputs": [],
   "source": [
    "national_holidays=holiday_events[(holiday_events[\"locale\"]==\"National\")&(holiday_events[\"type\"]==\"Holiday\")]"
   ]
  },
  {
   "cell_type": "code",
   "execution_count": 14,
   "id": "8c03e0c4-7950-4bba-a872-6ec0fb38b974",
   "metadata": {},
   "outputs": [],
   "source": [
    "national_holidays = national_holidays[~national_holidays['description'].str.startswith('Terremoto')]\n",
    "national_holidays = national_holidays[~national_holidays['description'].str.startswith('Mundial de futbol')]"
   ]
  },
  {
   "cell_type": "code",
   "execution_count": 15,
   "id": "577db783-942f-46f7-bd4d-65a0eae23374",
   "metadata": {},
   "outputs": [
    {
     "data": {
      "text/html": [
       "<div>\n",
       "<style scoped>\n",
       "    .dataframe tbody tr th:only-of-type {\n",
       "        vertical-align: middle;\n",
       "    }\n",
       "\n",
       "    .dataframe tbody tr th {\n",
       "        vertical-align: top;\n",
       "    }\n",
       "\n",
       "    .dataframe thead th {\n",
       "        text-align: right;\n",
       "    }\n",
       "</style>\n",
       "<table border=\"1\" class=\"dataframe\">\n",
       "  <thead>\n",
       "    <tr style=\"text-align: right;\">\n",
       "      <th></th>\n",
       "      <th>date</th>\n",
       "      <th>type</th>\n",
       "      <th>locale</th>\n",
       "      <th>locale_name</th>\n",
       "      <th>description</th>\n",
       "      <th>transferred</th>\n",
       "    </tr>\n",
       "  </thead>\n",
       "  <tbody>\n",
       "    <tr>\n",
       "      <th>14</th>\n",
       "      <td>2012-08-10</td>\n",
       "      <td>Holiday</td>\n",
       "      <td>National</td>\n",
       "      <td>Ecuador</td>\n",
       "      <td>Primer Grito de Independencia</td>\n",
       "      <td>False</td>\n",
       "    </tr>\n",
       "    <tr>\n",
       "      <th>19</th>\n",
       "      <td>2012-10-09</td>\n",
       "      <td>Holiday</td>\n",
       "      <td>National</td>\n",
       "      <td>Ecuador</td>\n",
       "      <td>Independencia de Guayaquil</td>\n",
       "      <td>True</td>\n",
       "    </tr>\n",
       "    <tr>\n",
       "      <th>21</th>\n",
       "      <td>2012-11-02</td>\n",
       "      <td>Holiday</td>\n",
       "      <td>National</td>\n",
       "      <td>Ecuador</td>\n",
       "      <td>Dia de Difuntos</td>\n",
       "      <td>False</td>\n",
       "    </tr>\n",
       "    <tr>\n",
       "      <th>22</th>\n",
       "      <td>2012-11-03</td>\n",
       "      <td>Holiday</td>\n",
       "      <td>National</td>\n",
       "      <td>Ecuador</td>\n",
       "      <td>Independencia de Cuenca</td>\n",
       "      <td>False</td>\n",
       "    </tr>\n",
       "    <tr>\n",
       "      <th>37</th>\n",
       "      <td>2012-12-25</td>\n",
       "      <td>Holiday</td>\n",
       "      <td>National</td>\n",
       "      <td>Ecuador</td>\n",
       "      <td>Navidad</td>\n",
       "      <td>False</td>\n",
       "    </tr>\n",
       "  </tbody>\n",
       "</table>\n",
       "</div>"
      ],
      "text/plain": [
       "          date     type    locale locale_name                    description   \n",
       "14  2012-08-10  Holiday  National     Ecuador  Primer Grito de Independencia  \\\n",
       "19  2012-10-09  Holiday  National     Ecuador     Independencia de Guayaquil   \n",
       "21  2012-11-02  Holiday  National     Ecuador                Dia de Difuntos   \n",
       "22  2012-11-03  Holiday  National     Ecuador        Independencia de Cuenca   \n",
       "37  2012-12-25  Holiday  National     Ecuador                        Navidad   \n",
       "\n",
       "    transferred  \n",
       "14        False  \n",
       "19         True  \n",
       "21        False  \n",
       "22        False  \n",
       "37        False  "
      ]
     },
     "execution_count": 15,
     "metadata": {},
     "output_type": "execute_result"
    }
   ],
   "source": [
    "national_holidays.head()"
   ]
  },
  {
   "cell_type": "code",
   "execution_count": 16,
   "id": "0f6272a4-bf76-4a2b-be17-da41aadd16a1",
   "metadata": {},
   "outputs": [],
   "source": [
    "train=pd.merge(train, national_holidays, on=\"date\", how=\"left\")\n",
    "test=pd.merge(test, national_holidays, on=\"date\", how=\"left\")"
   ]
  },
  {
   "cell_type": "code",
   "execution_count": 17,
   "id": "39125fd3-6f20-4165-9d5d-7c08205d2bb7",
   "metadata": {},
   "outputs": [
    {
     "data": {
      "text/html": [
       "<div>\n",
       "<style scoped>\n",
       "    .dataframe tbody tr th:only-of-type {\n",
       "        vertical-align: middle;\n",
       "    }\n",
       "\n",
       "    .dataframe tbody tr th {\n",
       "        vertical-align: top;\n",
       "    }\n",
       "\n",
       "    .dataframe thead th {\n",
       "        text-align: right;\n",
       "    }\n",
       "</style>\n",
       "<table border=\"1\" class=\"dataframe\">\n",
       "  <thead>\n",
       "    <tr style=\"text-align: right;\">\n",
       "      <th></th>\n",
       "      <th>id</th>\n",
       "      <th>date</th>\n",
       "      <th>store_nbr</th>\n",
       "      <th>family</th>\n",
       "      <th>sales</th>\n",
       "      <th>onpromotion</th>\n",
       "      <th>dcoilwtico</th>\n",
       "      <th>city</th>\n",
       "      <th>state</th>\n",
       "      <th>type_x</th>\n",
       "      <th>cluster</th>\n",
       "      <th>type_y</th>\n",
       "      <th>locale</th>\n",
       "      <th>locale_name</th>\n",
       "      <th>description</th>\n",
       "      <th>transferred</th>\n",
       "    </tr>\n",
       "  </thead>\n",
       "  <tbody>\n",
       "    <tr>\n",
       "      <th>0</th>\n",
       "      <td>0</td>\n",
       "      <td>2013-01-01</td>\n",
       "      <td>1</td>\n",
       "      <td>AUTOMOTIVE</td>\n",
       "      <td>0.0</td>\n",
       "      <td>0</td>\n",
       "      <td>NaN</td>\n",
       "      <td>Quito</td>\n",
       "      <td>Pichincha</td>\n",
       "      <td>D</td>\n",
       "      <td>13</td>\n",
       "      <td>Holiday</td>\n",
       "      <td>National</td>\n",
       "      <td>Ecuador</td>\n",
       "      <td>Primer dia del ano</td>\n",
       "      <td>False</td>\n",
       "    </tr>\n",
       "    <tr>\n",
       "      <th>1</th>\n",
       "      <td>1</td>\n",
       "      <td>2013-01-01</td>\n",
       "      <td>1</td>\n",
       "      <td>BABY CARE</td>\n",
       "      <td>0.0</td>\n",
       "      <td>0</td>\n",
       "      <td>NaN</td>\n",
       "      <td>Quito</td>\n",
       "      <td>Pichincha</td>\n",
       "      <td>D</td>\n",
       "      <td>13</td>\n",
       "      <td>Holiday</td>\n",
       "      <td>National</td>\n",
       "      <td>Ecuador</td>\n",
       "      <td>Primer dia del ano</td>\n",
       "      <td>False</td>\n",
       "    </tr>\n",
       "    <tr>\n",
       "      <th>2</th>\n",
       "      <td>2</td>\n",
       "      <td>2013-01-01</td>\n",
       "      <td>1</td>\n",
       "      <td>BEAUTY</td>\n",
       "      <td>0.0</td>\n",
       "      <td>0</td>\n",
       "      <td>NaN</td>\n",
       "      <td>Quito</td>\n",
       "      <td>Pichincha</td>\n",
       "      <td>D</td>\n",
       "      <td>13</td>\n",
       "      <td>Holiday</td>\n",
       "      <td>National</td>\n",
       "      <td>Ecuador</td>\n",
       "      <td>Primer dia del ano</td>\n",
       "      <td>False</td>\n",
       "    </tr>\n",
       "    <tr>\n",
       "      <th>3</th>\n",
       "      <td>3</td>\n",
       "      <td>2013-01-01</td>\n",
       "      <td>1</td>\n",
       "      <td>BEVERAGES</td>\n",
       "      <td>0.0</td>\n",
       "      <td>0</td>\n",
       "      <td>NaN</td>\n",
       "      <td>Quito</td>\n",
       "      <td>Pichincha</td>\n",
       "      <td>D</td>\n",
       "      <td>13</td>\n",
       "      <td>Holiday</td>\n",
       "      <td>National</td>\n",
       "      <td>Ecuador</td>\n",
       "      <td>Primer dia del ano</td>\n",
       "      <td>False</td>\n",
       "    </tr>\n",
       "    <tr>\n",
       "      <th>4</th>\n",
       "      <td>4</td>\n",
       "      <td>2013-01-01</td>\n",
       "      <td>1</td>\n",
       "      <td>BOOKS</td>\n",
       "      <td>0.0</td>\n",
       "      <td>0</td>\n",
       "      <td>NaN</td>\n",
       "      <td>Quito</td>\n",
       "      <td>Pichincha</td>\n",
       "      <td>D</td>\n",
       "      <td>13</td>\n",
       "      <td>Holiday</td>\n",
       "      <td>National</td>\n",
       "      <td>Ecuador</td>\n",
       "      <td>Primer dia del ano</td>\n",
       "      <td>False</td>\n",
       "    </tr>\n",
       "  </tbody>\n",
       "</table>\n",
       "</div>"
      ],
      "text/plain": [
       "   id        date  store_nbr      family  sales  onpromotion  dcoilwtico   \n",
       "0   0  2013-01-01          1  AUTOMOTIVE    0.0            0         NaN  \\\n",
       "1   1  2013-01-01          1   BABY CARE    0.0            0         NaN   \n",
       "2   2  2013-01-01          1      BEAUTY    0.0            0         NaN   \n",
       "3   3  2013-01-01          1   BEVERAGES    0.0            0         NaN   \n",
       "4   4  2013-01-01          1       BOOKS    0.0            0         NaN   \n",
       "\n",
       "    city      state type_x  cluster   type_y    locale locale_name   \n",
       "0  Quito  Pichincha      D       13  Holiday  National     Ecuador  \\\n",
       "1  Quito  Pichincha      D       13  Holiday  National     Ecuador   \n",
       "2  Quito  Pichincha      D       13  Holiday  National     Ecuador   \n",
       "3  Quito  Pichincha      D       13  Holiday  National     Ecuador   \n",
       "4  Quito  Pichincha      D       13  Holiday  National     Ecuador   \n",
       "\n",
       "          description transferred  \n",
       "0  Primer dia del ano       False  \n",
       "1  Primer dia del ano       False  \n",
       "2  Primer dia del ano       False  \n",
       "3  Primer dia del ano       False  \n",
       "4  Primer dia del ano       False  "
      ]
     },
     "execution_count": 17,
     "metadata": {},
     "output_type": "execute_result"
    }
   ],
   "source": [
    "train.head()"
   ]
  },
  {
   "cell_type": "code",
   "execution_count": 18,
   "id": "c040767b-f4c4-4bd3-a29d-9fd137d3e96f",
   "metadata": {},
   "outputs": [],
   "source": [
    "#Löschen irrelevanter Spalten\n",
    "train=train.drop([\"type_y\",\"locale\",\"locale_name\",\"transferred\"], axis=1)"
   ]
  },
  {
   "cell_type": "code",
   "execution_count": 19,
   "id": "2db15391-5934-4947-9e80-ff2f3a747af1",
   "metadata": {},
   "outputs": [],
   "source": [
    "#Umbenennen der Spalten in passendere Namen\n",
    "train[\"oil_price\"]=train[\"dcoilwtico\"]\n",
    "train[\"holiday\"]=train[\"description\"]\n",
    "train=train.drop([\"dcoilwtico\", \"id\", \"city\"], axis=1)\n",
    "\n",
    "test[\"oil_price\"]=test[\"dcoilwtico\"]\n",
    "test[\"holiday\"]=test[\"description\"]\n",
    "test=test.drop([\"dcoilwtico\", \"id\", \"city\"], axis=1)"
   ]
  },
  {
   "cell_type": "code",
   "execution_count": 20,
   "id": "99e28428-ae22-4e2c-9618-dae62c8fc7e3",
   "metadata": {},
   "outputs": [],
   "source": [
    "train[\"date\"]=pd.to_datetime(train[\"date\"])\n",
    "train[\"year\"]=train[\"date\"].dt.year\n",
    "train[\"month\"]=train[\"date\"].dt.month\n",
    "train=train.drop(\"date\", axis=1)"
   ]
  },
  {
   "cell_type": "code",
   "execution_count": 21,
   "id": "8493af03-08a8-46cf-a434-0bdaf89de30d",
   "metadata": {},
   "outputs": [
    {
     "name": "stdout",
     "output_type": "stream",
     "text": [
      "<class 'pandas.core.frame.DataFrame'>\n",
      "RangeIndex: 3000888 entries, 0 to 3000887\n",
      "Data columns (total 12 columns):\n",
      " #   Column       Dtype  \n",
      "---  ------       -----  \n",
      " 0   store_nbr    int64  \n",
      " 1   family       object \n",
      " 2   sales        float64\n",
      " 3   onpromotion  int64  \n",
      " 4   state        object \n",
      " 5   type_x       object \n",
      " 6   cluster      int64  \n",
      " 7   description  object \n",
      " 8   oil_price    float64\n",
      " 9   holiday      object \n",
      " 10  year         int32  \n",
      " 11  month        int32  \n",
      "dtypes: float64(2), int32(2), int64(3), object(5)\n",
      "memory usage: 251.8+ MB\n"
     ]
    }
   ],
   "source": [
    "train.info()"
   ]
  },
  {
   "cell_type": "markdown",
   "id": "26717196-730c-4041-8d6a-a9d8eec945ec",
   "metadata": {},
   "source": [
    "# Basic Data Exploration"
   ]
  },
  {
   "cell_type": "code",
   "execution_count": 22,
   "id": "99627ab1-5841-4110-9a2e-8f48d2da478f",
   "metadata": {},
   "outputs": [],
   "source": [
    "train = train[train['sales']!=0]"
   ]
  },
  {
   "cell_type": "code",
   "execution_count": 23,
   "id": "7c6f1be8-eeec-432e-ae63-f5672df2326b",
   "metadata": {},
   "outputs": [
    {
     "data": {
      "text/plain": [
       "count    2.061758e+06\n",
       "mean     5.207425e+02\n",
       "std      1.297187e+03\n",
       "min      1.220000e-01\n",
       "25%      9.000000e+00\n",
       "50%      7.846250e+01\n",
       "75%      3.880000e+02\n",
       "max      1.247170e+05\n",
       "Name: sales, dtype: float64"
      ]
     },
     "execution_count": 23,
     "metadata": {},
     "output_type": "execute_result"
    }
   ],
   "source": [
    "train[\"sales\"].describe()"
   ]
  },
  {
   "cell_type": "code",
   "execution_count": 24,
   "id": "7084eb0f-a5b1-4d97-95a8-ef339f22f0bc",
   "metadata": {},
   "outputs": [],
   "source": [
    "correlation=train.corr(numeric_only=True)"
   ]
  },
  {
   "cell_type": "code",
   "execution_count": 25,
   "id": "21f13d7e-21fb-40a7-9308-60ecf90a2620",
   "metadata": {},
   "outputs": [
    {
     "data": {
      "text/plain": [
       "sales          1.000000\n",
       "onpromotion    0.410608\n",
       "store_nbr      0.061742\n",
       "cluster        0.038872\n",
       "year           0.028285\n",
       "month          0.012308\n",
       "oil_price     -0.030120\n",
       "Name: sales, dtype: float64"
      ]
     },
     "execution_count": 25,
     "metadata": {},
     "output_type": "execute_result"
    }
   ],
   "source": [
    "correlation[\"sales\"].sort_values(ascending=False)"
   ]
  },
  {
   "cell_type": "code",
   "execution_count": 26,
   "id": "708bc3b8-d5fc-4f00-89de-27f9a0343b7c",
   "metadata": {},
   "outputs": [
    {
     "data": {
      "text/plain": [
       "<function matplotlib.pyplot.show(close=None, block=None)>"
      ]
     },
     "execution_count": 26,
     "metadata": {},
     "output_type": "execute_result"
    },
    {
     "data": {
      "image/png": "[encoded data removed]",
      "text/plain": [
       "<Figure size 1200x800 with 9 Axes>"
      ]
     },
     "metadata": {},
     "output_type": "display_data"
    }
   ],
   "source": [
    "train.hist(bins=100, figsize=(12,8))\n",
    "plt.show"
   ]
  },
  {
   "cell_type": "markdown",
   "id": "af401cf0-aeb2-495e-b21d-31c9b5657586",
   "metadata": {},
   "source": [
    "Dieser Plot zeigt, dass es überverhältnismäßig viele Datensätze gibt, bei denen sales = 0 ist. Diese Beobachtung könnte sich durch 2 Gründe erklären lassen.\n",
    "(1) Stores werden auch aufgeführt, bevor sie eröffnet haben.\n",
    "(2) Es gibt Stores, welche verschiedene Produktfamilien überhaupt nicht anbieten."
   ]
  },
  {
   "cell_type": "markdown",
   "id": "6bebe3ff-9ea7-4060-bf7b-6f065ce36408",
   "metadata": {},
   "source": [
    "# Data-Splitting"
   ]
  },
  {
   "cell_type": "code",
   "execution_count": 27,
   "id": "3f409a35-fb57-4a5d-8aaf-ff2993f5d0e5",
   "metadata": {},
   "outputs": [],
   "source": [
    "# 'new' data as validation set\n",
    "validation_set=test \n",
    "# original training set is split into train and test data, each store type is equally represented\n",
    "train_set, test_set = train_test_split(train, test_size=0.2, stratify=train[\"year\"], random_state=42) "
   ]
  },
  {
   "cell_type": "code",
   "execution_count": 28,
   "id": "ded788ab-c064-4d95-a37a-a704b1ce4bc4",
   "metadata": {
    "scrolled": true
   },
   "outputs": [],
   "source": [
    "training_features = train_set.drop(\"sales\", axis=1)\n",
    "training_labels = train_set[\"sales\"].copy()\n",
    "\n",
    "testing_features = test_set.drop(\"sales\", axis=1)\n",
    "testing_labels = test_set[\"sales\"].copy()\n",
    "\n",
    "training_features=training_features[:20000]\n",
    "training_labels= training_labels[:20000]\n",
    "\n",
    "testing_features=testing_features[:4000]\n",
    "testing_labels= testing_labels[:4000]\n"
   ]
  },
  {
   "cell_type": "code",
   "execution_count": 29,
   "id": "62e43ef7-dbf3-4778-850b-e42fd76c1d11",
   "metadata": {},
   "outputs": [
    {
     "data": {
      "text/html": [
       "<div>\n",
       "<style scoped>\n",
       "    .dataframe tbody tr th:only-of-type {\n",
       "        vertical-align: middle;\n",
       "    }\n",
       "\n",
       "    .dataframe tbody tr th {\n",
       "        vertical-align: top;\n",
       "    }\n",
       "\n",
       "    .dataframe thead th {\n",
       "        text-align: right;\n",
       "    }\n",
       "</style>\n",
       "<table border=\"1\" class=\"dataframe\">\n",
       "  <thead>\n",
       "    <tr style=\"text-align: right;\">\n",
       "      <th></th>\n",
       "      <th>store_nbr</th>\n",
       "      <th>family</th>\n",
       "      <th>onpromotion</th>\n",
       "      <th>state</th>\n",
       "      <th>type_x</th>\n",
       "      <th>cluster</th>\n",
       "      <th>description</th>\n",
       "      <th>oil_price</th>\n",
       "      <th>holiday</th>\n",
       "      <th>year</th>\n",
       "      <th>month</th>\n",
       "    </tr>\n",
       "  </thead>\n",
       "  <tbody>\n",
       "    <tr>\n",
       "      <th>623431</th>\n",
       "      <td>50</td>\n",
       "      <td>POULTRY</td>\n",
       "      <td>0</td>\n",
       "      <td>Tungurahua</td>\n",
       "      <td>A</td>\n",
       "      <td>14</td>\n",
       "      <td>NaN</td>\n",
       "      <td>97.18</td>\n",
       "      <td>NaN</td>\n",
       "      <td>2013</td>\n",
       "      <td>12</td>\n",
       "    </tr>\n",
       "    <tr>\n",
       "      <th>1384596</th>\n",
       "      <td>9</td>\n",
       "      <td>HOME AND KITCHEN I</td>\n",
       "      <td>0</td>\n",
       "      <td>Pichincha</td>\n",
       "      <td>B</td>\n",
       "      <td>6</td>\n",
       "      <td>NaN</td>\n",
       "      <td>52.13</td>\n",
       "      <td>NaN</td>\n",
       "      <td>2015</td>\n",
       "      <td>2</td>\n",
       "    </tr>\n",
       "    <tr>\n",
       "      <th>136101</th>\n",
       "      <td>28</td>\n",
       "      <td>DELI</td>\n",
       "      <td>0</td>\n",
       "      <td>Guayas</td>\n",
       "      <td>E</td>\n",
       "      <td>10</td>\n",
       "      <td>NaN</td>\n",
       "      <td>93.71</td>\n",
       "      <td>NaN</td>\n",
       "      <td>2013</td>\n",
       "      <td>3</td>\n",
       "    </tr>\n",
       "    <tr>\n",
       "      <th>1928082</th>\n",
       "      <td>8</td>\n",
       "      <td>MEATS</td>\n",
       "      <td>1</td>\n",
       "      <td>Pichincha</td>\n",
       "      <td>D</td>\n",
       "      <td>8</td>\n",
       "      <td>NaN</td>\n",
       "      <td>NaN</td>\n",
       "      <td>NaN</td>\n",
       "      <td>2015</td>\n",
       "      <td>12</td>\n",
       "    </tr>\n",
       "    <tr>\n",
       "      <th>1723820</th>\n",
       "      <td>26</td>\n",
       "      <td>SEAFOOD</td>\n",
       "      <td>1</td>\n",
       "      <td>Guayas</td>\n",
       "      <td>D</td>\n",
       "      <td>10</td>\n",
       "      <td>NaN</td>\n",
       "      <td>45.29</td>\n",
       "      <td>NaN</td>\n",
       "      <td>2015</td>\n",
       "      <td>8</td>\n",
       "    </tr>\n",
       "  </tbody>\n",
       "</table>\n",
       "</div>"
      ],
      "text/plain": [
       "         store_nbr              family  onpromotion       state type_x   \n",
       "623431          50             POULTRY            0  Tungurahua      A  \\\n",
       "1384596          9  HOME AND KITCHEN I            0   Pichincha      B   \n",
       "136101          28                DELI            0      Guayas      E   \n",
       "1928082          8               MEATS            1   Pichincha      D   \n",
       "1723820         26             SEAFOOD            1      Guayas      D   \n",
       "\n",
       "         cluster description  oil_price holiday  year  month  \n",
       "623431        14         NaN      97.18     NaN  2013     12  \n",
       "1384596        6         NaN      52.13     NaN  2015      2  \n",
       "136101        10         NaN      93.71     NaN  2013      3  \n",
       "1928082        8         NaN        NaN     NaN  2015     12  \n",
       "1723820       10         NaN      45.29     NaN  2015      8  "
      ]
     },
     "execution_count": 29,
     "metadata": {},
     "output_type": "execute_result"
    }
   ],
   "source": [
    "training_features.head()"
   ]
  },
  {
   "cell_type": "markdown",
   "id": "3531a90f-d0b2-44c5-8e5b-64ac18dcfcf0",
   "metadata": {},
   "source": [
    "# Preprocessing\n",
    "Hier werden NaN Values entfernt, Daten skaliert und Datentypen so transformiert, dass ML-Algorithmen damit arbeiten können."
   ]
  },
  {
   "cell_type": "code",
   "execution_count": 30,
   "id": "f61484ce-af1d-432e-a4d7-3abce7f2c77f",
   "metadata": {},
   "outputs": [],
   "source": [
    "cat_pipeline=Pipeline([(\"Imputer\", SimpleImputer(strategy=\"most_frequent\")),\n",
    "                      (\"Encoder\", OneHotEncoder(handle_unknown=\"ignore\"))]\n",
    "                     )\n",
    "num_pipeline=Pipeline([(\"Imputer\", SimpleImputer(strategy=\"most_frequent\")),\n",
    "                      (\"Scaler\", StandardScaler())]\n",
    "                     )\n"
   ]
  },
  {
   "cell_type": "code",
   "execution_count": 31,
   "id": "998b18f5-9022-4fdc-9531-d38420f0f151",
   "metadata": {},
   "outputs": [],
   "source": [
    "preprocessing= ColumnTransformer([\n",
    "    (\"cat\", cat_pipeline, make_column_selector(dtype_include=object)),\n",
    "    ], remainder=num_pipeline)"
   ]
  },
  {
   "cell_type": "code",
   "execution_count": 32,
   "id": "48845db3-ba96-465c-8dbe-024f34e6ac71",
   "metadata": {},
   "outputs": [
    {
     "data": {
      "text/plain": [
       "array(['cat__family_AUTOMOTIVE', 'cat__family_BABY CARE',\n",
       "       'cat__family_BEAUTY', 'cat__family_BEVERAGES', 'cat__family_BOOKS',\n",
       "       'cat__family_BREAD/BAKERY', 'cat__family_CELEBRATION',\n",
       "       'cat__family_CLEANING', 'cat__family_DAIRY', 'cat__family_DELI',\n",
       "       'cat__family_EGGS', 'cat__family_FROZEN FOODS',\n",
       "       'cat__family_GROCERY I', 'cat__family_GROCERY II',\n",
       "       'cat__family_HARDWARE', 'cat__family_HOME AND KITCHEN I',\n",
       "       'cat__family_HOME AND KITCHEN II', 'cat__family_HOME APPLIANCES',\n",
       "       'cat__family_HOME CARE', 'cat__family_LADIESWEAR',\n",
       "       'cat__family_LAWN AND GARDEN', 'cat__family_LINGERIE',\n",
       "       'cat__family_LIQUOR,WINE,BEER', 'cat__family_MAGAZINES',\n",
       "       'cat__family_MEATS', 'cat__family_PERSONAL CARE',\n",
       "       'cat__family_PET SUPPLIES', 'cat__family_PLAYERS AND ELECTRONICS',\n",
       "       'cat__family_POULTRY', 'cat__family_PREPARED FOODS',\n",
       "       'cat__family_PRODUCE', 'cat__family_SCHOOL AND OFFICE SUPPLIES',\n",
       "       'cat__family_SEAFOOD', 'cat__state_Azuay', 'cat__state_Bolivar',\n",
       "       'cat__state_Chimborazo', 'cat__state_Cotopaxi',\n",
       "       'cat__state_El Oro', 'cat__state_Esmeraldas', 'cat__state_Guayas',\n",
       "       'cat__state_Imbabura', 'cat__state_Loja', 'cat__state_Los Rios',\n",
       "       'cat__state_Manabi', 'cat__state_Pastaza', 'cat__state_Pichincha',\n",
       "       'cat__state_Santa Elena',\n",
       "       'cat__state_Santo Domingo de los Tsachilas',\n",
       "       'cat__state_Tungurahua', 'cat__type_x_A', 'cat__type_x_B',\n",
       "       'cat__type_x_C', 'cat__type_x_D', 'cat__type_x_E',\n",
       "       'cat__description_Batalla de Pichincha',\n",
       "       'cat__description_Carnaval', 'cat__description_Dia de Difuntos',\n",
       "       'cat__description_Dia del Trabajo',\n",
       "       'cat__description_Independencia de Cuenca',\n",
       "       'cat__description_Independencia de Guayaquil',\n",
       "       'cat__description_Primer Grito de Independencia',\n",
       "       'cat__description_Primer dia del ano',\n",
       "       'cat__description_Viernes Santo',\n",
       "       'cat__holiday_Batalla de Pichincha', 'cat__holiday_Carnaval',\n",
       "       'cat__holiday_Dia de Difuntos', 'cat__holiday_Dia del Trabajo',\n",
       "       'cat__holiday_Independencia de Cuenca',\n",
       "       'cat__holiday_Independencia de Guayaquil',\n",
       "       'cat__holiday_Primer Grito de Independencia',\n",
       "       'cat__holiday_Primer dia del ano', 'cat__holiday_Viernes Santo',\n",
       "       'remainder__store_nbr', 'remainder__onpromotion',\n",
       "       'remainder__cluster', 'remainder__oil_price', 'remainder__year',\n",
       "       'remainder__month'], dtype=object)"
      ]
     },
     "execution_count": 32,
     "metadata": {},
     "output_type": "execute_result"
    }
   ],
   "source": [
    "training_features_prepared = preprocessing.fit_transform(training_features)\n",
    "testing_features_prepared = preprocessing.transform(testing_features)\n",
    "\n",
    "preprocessing.get_feature_names_out()"
   ]
  },
  {
   "cell_type": "markdown",
   "id": "57107071-d369-4ef1-9353-bf6bf09bdba2",
   "metadata": {},
   "source": [
    "# Model Vorauswahl"
   ]
  },
  {
   "cell_type": "code",
   "execution_count": 33,
   "id": "5a54bf7b-d277-4592-96f9-564dddb2ce14",
   "metadata": {},
   "outputs": [],
   "source": [
    "#creating models\n",
    "rf_model = RandomForestRegressor(random_state=42, max_depth=10, max_leaf_nodes=100)\n",
    "lr_model = LinearRegression()\n",
    "dt_model = DecisionTreeRegressor(random_state=42, max_depth=10, max_leaf_nodes=100)\n",
    "svm_model = SVR()\n",
    "\n",
    "models={ 'Linear Regression':lr_model, 'Decision Tree Model':dt_model,'Random Forest Regressor':rf_model}"
   ]
  },
  {
   "cell_type": "code",
   "execution_count": null,
   "id": "738bb052-59dd-4645-a134-c4a5bba35e11",
   "metadata": {},
   "outputs": [],
   "source": [
    "for name, model in models.items():\n",
    "    model.fit(training_features_prepared, training_labels)\n",
    "    rmse_train=mean_squared_error(training_labels, model.predict(training_features_prepared), squared=False)\n",
    "    rmse_test=mean_squared_error(testing_labels, model.predict(testing_features_prepared), squared=False)\n",
    "    print(f\"Root-Mean-Squared-Error on Training Data/Testing Data of the {name} is {rmse_train:.2f}/ {rmse_test:.2f}\")"
   ]
  },
  {
   "cell_type": "code",
   "execution_count": null,
   "id": "0bee5352-5e18-46f0-be74-59906d70912f",
   "metadata": {},
   "outputs": [],
   "source": []
  }
 ],
 "metadata": {
  "kernelspec": {
   "display_name": "Python 3 (ipykernel)",
   "language": "python",
   "name": "python3"
  },
  "language_info": {
   "codemirror_mode": {
    "name": "ipython",
    "version": 3
   },
   "file_extension": ".py",
   "mimetype": "text/x-python",
   "name": "python",
   "nbconvert_exporter": "python",
   "pygments_lexer": "ipython3",
   "version": "3.11.3"
  }
 },
 "nbformat": 4,
 "nbformat_minor": 5
}
