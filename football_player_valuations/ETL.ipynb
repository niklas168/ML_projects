{
 "cells": [
  {
   "cell_type": "code",
   "execution_count": 1,
   "id": "c7c02c11-ffc9-4486-a4d9-09845dc38868",
   "metadata": {},
   "outputs": [],
   "source": [
    "import pandas as pd\n",
    "import csv\n",
    "import glob\n",
    "from sklearn.compose import make_column_selector, ColumnTransformer"
   ]
  },
  {
   "cell_type": "code",
   "execution_count": 2,
   "id": "cfa9bc66-dd64-4e99-9b7c-6f271828290f",
   "metadata": {},
   "outputs": [
    {
     "name": "stdout",
     "output_type": "stream",
     "text": [
      "Requirement already satisfied: kaggle in c:\\users\\nikla\\python\\python311\\lib\\site-packages (1.5.16)\n",
      "Requirement already satisfied: six>=1.10 in c:\\users\\nikla\\python\\python311\\lib\\site-packages (from kaggle) (1.16.0)\n",
      "Requirement already satisfied: certifi in c:\\users\\nikla\\python\\python311\\lib\\site-packages (from kaggle) (2023.11.17)\n",
      "Requirement already satisfied: python-dateutil in c:\\users\\nikla\\python\\python311\\lib\\site-packages (from kaggle) (2.8.2)\n",
      "Requirement already satisfied: requests in c:\\users\\nikla\\python\\python311\\lib\\site-packages (from kaggle) (2.31.0)\n",
      "Requirement already satisfied: tqdm in c:\\users\\nikla\\python\\python311\\lib\\site-packages (from kaggle) (4.66.1)\n",
      "Requirement already satisfied: python-slugify in c:\\users\\nikla\\python\\python311\\lib\\site-packages (from kaggle) (8.0.1)\n",
      "Requirement already satisfied: urllib3 in c:\\users\\nikla\\python\\python311\\lib\\site-packages (from kaggle) (2.0.3)\n",
      "Requirement already satisfied: bleach in c:\\users\\nikla\\python\\python311\\lib\\site-packages (from kaggle) (6.1.0)\n",
      "Requirement already satisfied: webencodings in c:\\users\\nikla\\python\\python311\\lib\\site-packages (from bleach->kaggle) (0.5.1)\n",
      "Requirement already satisfied: text-unidecode>=1.3 in c:\\users\\nikla\\python\\python311\\lib\\site-packages (from python-slugify->kaggle) (1.3)\n",
      "Requirement already satisfied: charset-normalizer<4,>=2 in c:\\users\\nikla\\python\\python311\\lib\\site-packages (from requests->kaggle) (3.1.0)\n",
      "Requirement already satisfied: idna<4,>=2.5 in c:\\users\\nikla\\python\\python311\\lib\\site-packages (from requests->kaggle) (3.4)\n",
      "Requirement already satisfied: colorama in c:\\users\\nikla\\python\\python311\\lib\\site-packages (from tqdm->kaggle) (0.4.6)\n"
     ]
    }
   ],
   "source": [
    "!pip install kaggle"
   ]
  },
  {
   "cell_type": "code",
   "execution_count": 2,
   "id": "488b76f7-3bb0-4495-bfef-a84198e60f17",
   "metadata": {},
   "outputs": [],
   "source": [
    "# function to load the csv files that have been scraped from FBREF as df\n",
    "def extract_FBREF(subdirectories):\n",
    "    for i,sub in enumerate(subdirectories):\n",
    "        if i==0:\n",
    "            for index,csv in enumerate(glob.glob(f\"{sub}/*.csv\")):\n",
    "                if index==0:\n",
    "                    extracted_data=pd.read_csv(csv, index_col=0)\n",
    "                else:\n",
    "                    extracted_data= pd.concat([extracted_data, pd.read_csv(csv)], ignore_index=True)\n",
    "        else: \n",
    "            for csv in glob.glob(f\"{sub}/*.csv\"):\n",
    "                extracted_data= pd.concat([extracted_data, pd.read_csv(csv)], ignore_index=True)\n",
    "    return extracted_data\n",
    "    \n",
    "# function to load data from kaggle dataset Transfermarkt as df\n",
    "def extract_TM():\n",
    "    \n",
    "    if not os.path.exists(\"data_TM\"):\n",
    "        os.makedirs(\"data_TM\")\n",
    "    \n",
    "    kaggle.api.authenticate()\n",
    "    kaggle.api.dataset_download_files('davidcariboo/player-scores', path='data_TM', unzip=True)\n",
    "    \n",
    "    player_valuations=pd.read_csv(\"data_TM/player_valuations.csv\")\n",
    "    players=pd.read_csv(\"data_TM/players.csv\")\n",
    "\n",
    "    return player_valuations, players"
   ]
  },
  {
   "cell_type": "code",
   "execution_count": 3,
   "id": "cefb00b3-08a7-4e55-a100-18a9fd79e955",
   "metadata": {},
   "outputs": [],
   "source": [
    "# combine prior functions\n",
    "def extract(subdirectories):\n",
    "    player_stats=extract_FBREF(subdirectories)\n",
    "    valuations,players=extract_TM()\n",
    "    return player_stats, valuations, players"
   ]
  },
  {
   "cell_type": "code",
   "execution_count": 4,
   "id": "5052707b-5856-4d6a-acb9-c933f8ccbe33",
   "metadata": {},
   "outputs": [],
   "source": [
    "# function to transform player stats (scraped from FBREF)\n",
    "def transform_stats(df):\n",
    "    #format the df properly\n",
    "    df.iloc[0] = df.iloc[0].fillna('Saison')\n",
    "    header = df.iloc[0]\n",
    "    df = df[1:]\n",
    "    df = df.rename(columns=header)\n",
    "\n",
    "    #delete unwanted columns\n",
    "    df=df.drop(\"Spiele\", axis=1)\n",
    "    df = df.loc[:, ~df.columns.duplicated(keep=\"first\")]\n",
    "\n",
    "    #remove duplicate rows of header row\n",
    "    index_dup_header = df[df[\"Geboren\"] == \"Geboren\"].index\n",
    "    df = df.drop(index_dup_header)\n",
    "\n",
    "    #change datatype of numeric columns\n",
    "    columns_to_convert = df.columns[5:27]\n",
    "\n",
    "    for column in columns_to_convert:\n",
    "        df[column] = df[column].astype(float)\n",
    "        \n",
    "    return df"
   ]
  },
  {
   "cell_type": "code",
   "execution_count": 5,
   "id": "701ecaf7-ef6b-4fad-a203-3a8d8361708a",
   "metadata": {},
   "outputs": [],
   "source": [
    "#function to transform player stats from kaggle dataset Transfermarkt\n",
    "def transform_TM(valuations, players):\n",
    "    def rename_or_drop(date):\n",
    "            if date.month >= 5 and date.month <= 7 and date.day >= 15:\n",
    "                return f\"{date.year-2001}_{date.year-2000}\"\n",
    "            else:\n",
    "                return None \n",
    "    valuations['date']=pd.to_datetime(valuations['date'])\n",
    "    valuations['Saison'] = valuations['date'].apply(rename_or_drop)\n",
    "    valuations = valuations.dropna(subset=['Saison'])\n",
    "    valuations = valuations.rename(columns={'player_id': 'Spieler_id', 'market_value_in_eur':'Marktwert', 'player_club_domestic_competition_id':'Liga'})\n",
    "    valuations=valuations[['Spieler_id','Saison', 'Marktwert', 'Liga']]\n",
    "    valuations = valuations[valuations['Liga'].isin(['GB1', 'L1', 'ES1', 'FR1', 'IT1'])]\n",
    "\n",
    "\n",
    "    players['Spieler']=players['first_name']+\" \"+players['last_name']\n",
    "    players['Spieler_id']=players['player_id']\n",
    "    players=players[['Spieler', 'Spieler_id']]\n",
    "    \n",
    "    merged_df = pd.merge(players,valuations, on='Spieler_id', how='inner')\n",
    "    merged_df = merged_df.drop('Spieler_id', axis=1)\n",
    "    \n",
    "    return merged_df"
   ]
  },
  {
   "cell_type": "code",
   "execution_count": 6,
   "id": "92eadb39-0fa7-48ab-8dd9-556f52190b11",
   "metadata": {},
   "outputs": [],
   "source": [
    "# function to combine both Transformers and inner join the results\n",
    "def transform(df1, df2, df3):\n",
    "    stats=transform_stats(df1)\n",
    "    valuations=transform_TM(df2, df3)\n",
    "    final= pd.merge(stats,valuations, on=['Spieler', 'Saison'], how='inner')\n",
    "\n",
    "    return final"
   ]
  },
  {
   "cell_type": "code",
   "execution_count": 7,
   "id": "f7e177f3-c155-4ce8-b415-286868c035db",
   "metadata": {},
   "outputs": [],
   "source": [
    "# function to load the end result as csv that is ready to be worked with by Data Sccientist (me)\n",
    "def load(df, file_name):\n",
    "    df.to_csv(file_name, index=False)"
   ]
  },
  {
   "cell_type": "code",
   "execution_count": 8,
   "id": "967a9fca-58c1-4f8f-85e7-a162b574e5fb",
   "metadata": {},
   "outputs": [],
   "source": [
    "#ETL process\n",
    "subs=[\"22_23\",\"21_22\",\"20_21\",\"19_20\",\"18_19\",\"17_18\"]\n",
    "stats, valuations, players= extract(subs)\n",
    "whole_table=transform(stats, valuations, players)\n",
    "load(whole_table, \"Spieler_Marktwerte.csv\")"
   ]
  },
  {
   "cell_type": "code",
   "execution_count": null,
   "id": "9c40d33d-e2d1-4db7-b7ab-052f8766308c",
   "metadata": {},
   "outputs": [],
   "source": []
  }
 ],
 "metadata": {
  "kernelspec": {
   "display_name": "Python 3 (ipykernel)",
   "language": "python",
   "name": "python3"
  },
  "language_info": {
   "codemirror_mode": {
    "name": "ipython",
    "version": 3
   },
   "file_extension": ".py",
   "mimetype": "text/x-python",
   "name": "python",
   "nbconvert_exporter": "python",
   "pygments_lexer": "ipython3",
   "version": "3.11.3"
  }
 },
 "nbformat": 4,
 "nbformat_minor": 5
}
