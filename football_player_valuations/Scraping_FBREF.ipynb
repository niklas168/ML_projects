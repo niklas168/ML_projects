{
 "cells": [
  {
   "cell_type": "code",
   "execution_count": 1,
   "id": "e6936c2c-bfb4-4486-bc98-29894e701f28",
   "metadata": {},
   "outputs": [],
   "source": [
    "from bs4 import BeautifulSoup, Comment\n",
    "import os\n",
    "from os.path import exists\n",
    "import requests\n",
    "import pandas as pd"
   ]
  },
  {
   "cell_type": "code",
   "execution_count": 1,
   "id": "37baf34e-4b11-425a-b43b-c9f5a777ff0a",
   "metadata": {},
   "outputs": [],
   "source": [
    "def get_csv(url, table_name, dest_csv_path, season):\n",
    "\n",
    "    #prevent duplicate loading\n",
    "    if (os.path.exists(dest_csv_path)):\n",
    "        raise ValueError(\"This File already exists!\")\n",
    "\n",
    "    # requesting url and parsing as html\n",
    "    content=requests.get(url).text\n",
    "    soup=BeautifulSoup(content, \"html.parser\")\n",
    "\n",
    "    # search through html for tables and comments to find hidden tables\n",
    "    tables=soup.find_all('table')\n",
    "    comments = soup.find_all(string=lambda text: isinstance(text, Comment))\n",
    "     \n",
    "    for each in comments:\n",
    "        if 'table' in each:\n",
    "            try:\n",
    "                tables.append(str(each))\n",
    "            except:\n",
    "                continue\n",
    "\n",
    "    #find the index of the table that contains the title we are looking for\n",
    "    for index,table in enumerate(tables):\n",
    "        if (table_name in str(table)):\n",
    "            table_index = index\n",
    "            \n",
    "    #read in that table as df and add the season variable (important to later keep apart multiple entries of the same player\n",
    "    player_stats=pd.read_html(str(tables[table_index]), flavor='bs4')[0]\n",
    "    player_stats['Saison']=season\n",
    "    \n",
    "    #load as csv with given filename\n",
    "    player_stats.to_csv(dest_csv_path, index=False)\n",
    "    \n",
    "            \n",
    "       "
   ]
  },
  {
   "cell_type": "code",
   "execution_count": 5,
   "id": "44169043-a913-4272-8742-8dfa2006faf6",
   "metadata": {},
   "outputs": [],
   "source": [
    "#get all tables of gievn url list and load into directory with given name\n",
    "def get_csv_for_season(url_list, directory):\n",
    "    for i in range (5):\n",
    "        path=os.path.join(os.getcwd(), directory, file_names[i])\n",
    "        if not os.path.exists(directory):\n",
    "            os.makedirs(directory)\n",
    "        try:\n",
    "            get_csv(url_list[i], name, path, directory)\n",
    "        except:\n",
    "            continue"
   ]
  },
  {
   "cell_type": "code",
   "execution_count": 2,
   "id": "4b55ef8c-16b3-4d68-b299-e6fbffd61d72",
   "metadata": {},
   "outputs": [],
   "source": [
    "# title of the table on FBRef and file names that should be used for loading step\n",
    "name=\"Spieler-Standard-Statistiken\"\n",
    "file_names=[\"PL_Player_Stats.csv\", \"LL_Player_Stats.csv\", \"SA_Player_Stats.csv\",\"BL_Player_Stats.csv\", \"L1_Player_Stats.csv\"]"
   ]
  },
  {
   "cell_type": "code",
   "execution_count": 3,
   "id": "89878c6d-f281-40b3-9c61-ba7a5c8f4d1d",
   "metadata": {},
   "outputs": [],
   "source": [
    "# urls of pages with relevant player stats from the last 6 seasons in the top 5 european leagues\n",
    "urls_22_23=[\"https://fbref.com/de/wettbewerbe/9/2022-2023/stats/Statistiken-Premier-League-2022-2023\",\"https://fbref.com/de/wettbewerbe/12/2022-2023/stats/Statistiken-La-Liga-2022-2023\",\"https://fbref.com/de/wettbewerbe/11/2022-2023/stats/Statistiken-Serie-A-2022-2023\",\"https://fbref.com/de/wettbewerbe/20/2022-2023/stats/Statistiken-Bundesliga-2022-2023\",\"https://fbref.com/de/wettbewerbe/13/2022-2023/stats/Statistiken-Ligue-1-2022-2023\"]\n",
    "urls_21_22=[\"https://fbref.com/de/wettbewerbe/9/2021-2022/stats/Statistiken-Premier-League-2021-2022\",\"https://fbref.com/de/wettbewerbe/12/2021-2022/stats/Statistiken-La-Liga-2021-2022\",\"https://fbref.com/de/wettbewerbe/11/2021-2022/stats/Statistiken-Serie-A-2021-2022\",\"https://fbref.com/de/wettbewerbe/20/2021-2022/stats/Statistiken-Bundesliga-2021-2022\",\"https://fbref.com/de/wettbewerbe/13/2021-2022/stats/Statistiken-Ligue-1-2021-2022\"]\n",
    "urls_20_21=[\"https://fbref.com/de/wettbewerbe/9/2020-2021/stats/Statistiken-Premier-League-2020-2021\",\"https://fbref.com/de/wettbewerbe/12/2020-2021/stats/Statistiken-La-Liga-2020-2021\",\"https://fbref.com/de/wettbewerbe/11/2020-2021/stats/Statistiken-Serie-A-2020-2021\",\"https://fbref.com/de/wettbewerbe/20/2020-2021/stats/Statistiken-Bundesliga-2020-2021\",\"https://fbref.com/de/wettbewerbe/13/2020-2021/stats/Statistiken-Ligue-1-2020-2021\"]\n",
    "urls_19_20=[\"https://fbref.com/de/wettbewerbe/9/2019-2020/stats/Statistiken-Premier-League-2019-2020\",\"https://fbref.com/de/wettbewerbe/12/2019-2020/stats/Statistiken-La-Liga-2019-2020\",\"https://fbref.com/de/wettbewerbe/11/2019-2020/stats/Statistiken-Serie-A-2019-2020\",\"https://fbref.com/de/wettbewerbe/20/2019-2020/stats/Statistiken-Bundesliga-2019-2020\",\"https://fbref.com/de/wettbewerbe/13/2019-2020/stats/Statistiken-Ligue-1-2019-2020\"]\n",
    "urls_18_19=[\"https://fbref.com/de/wettbewerbe/9/2018-2019/stats/Statistiken-Premier-League-2018-2019\",\"https://fbref.com/de/wettbewerbe/12/2018-2019/stats/Statistiken-La-Liga-2018-2019\",\"https://fbref.com/de/wettbewerbe/11/2018-2019/stats/Statistiken-Serie-A-2018-2019\",\"https://fbref.com/de/wettbewerbe/20/2018-2019/stats/Statistiken-Bundesliga-2018-2019\",\"https://fbref.com/de/wettbewerbe/13/2018-2019/stats/Statistiken-Ligue-1-2018-2019\"]\n",
    "urls_17_18=[\"https://fbref.com/de/wettbewerbe/9/2017-2018/stats/Statistiken-Premier-League-2017-2018\",\"https://fbref.com/de/wettbewerbe/12/2017-2018/stats/Statistiken-La-Liga-2017-2018\",\"https://fbref.com/de/wettbewerbe/11/2017-2018/stats/Statistiken-Serie-A-2017-2018\",\"https://fbref.com/de/wettbewerbe/20/2017-2018/stats/Statistiken-Bundesliga-2017-2018\",\"https://fbref.com/de/wettbewerbe/13/2017-2018/stats/Statistiken-Ligue-1-2017-2018\"]"
   ]
  },
  {
   "cell_type": "code",
   "execution_count": 6,
   "id": "9c4832d6-023e-48fd-898d-d2b9c184188c",
   "metadata": {},
   "outputs": [],
   "source": [
    "get_csv_for_season(urls_22_23, \"22_23\")\n",
    "get_csv_for_season(urls_22_23, \"21_22\")\n",
    "get_csv_for_season(urls_22_23, \"20_21\")\n",
    "get_csv_for_season(urls_22_23, \"19_20\")\n",
    "get_csv_for_season(urls_22_23, \"18_19\")\n",
    "get_csv_for_season(urls_22_23, \"17_18\")"
   ]
  },
  {
   "cell_type": "code",
   "execution_count": null,
   "id": "1bacfd71-0faa-4f43-8322-57cb0b6d2430",
   "metadata": {},
   "outputs": [],
   "source": []
  }
 ],
 "metadata": {
  "kernelspec": {
   "display_name": "Python 3 (ipykernel)",
   "language": "python",
   "name": "python3"
  },
  "language_info": {
   "codemirror_mode": {
    "name": "ipython",
    "version": 3
   },
   "file_extension": ".py",
   "mimetype": "text/x-python",
   "name": "python",
   "nbconvert_exporter": "python",
   "pygments_lexer": "ipython3",
   "version": "3.11.3"
  }
 },
 "nbformat": 4,
 "nbformat_minor": 5
}
