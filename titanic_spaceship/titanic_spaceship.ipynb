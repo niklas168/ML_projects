{
 "cells": [
  {
   "cell_type": "code",
   "id": "0575e560-6557-4cae-83e4-66c584a42d46",
   "metadata": {
    "ExecuteTime": {
     "end_time": "2025-01-06T15:20:05.424102Z",
     "start_time": "2025-01-06T15:20:05.419035Z"
    }
   },
   "source": [
    "import pandas as pd\n",
    "import numpy as np\n",
    "import matplotlib.pyplot as plt\n",
    "from sklearn.model_selection import train_test_split, RandomizedSearchCV, cross_val_score, cross_val_predict\n",
    "from sklearn.preprocessing import OneHotEncoder, MinMaxScaler, StandardScaler, FunctionTransformer\n",
    "from sklearn.impute import SimpleImputer\n",
    "from sklearn.pipeline import Pipeline\n",
    "from sklearn.compose import make_column_selector, ColumnTransformer\n",
    "from sklearn.ensemble import RandomForestClassifier\n",
    "from sklearn.linear_model import LogisticRegression, SGDClassifier\n",
    "from sklearn.tree import DecisionTreeClassifier\n",
    "from sklearn.svm import SVC\n",
    "from sklearn.neighbors import KNeighborsClassifier\n",
    "from sklearn.naive_bayes import GaussianNB\n",
    "from sklearn.metrics import accuracy_score, confusion_matrix, precision_score, recall_score, f1_score\n",
    "from scipy.stats import randint"
   ],
   "outputs": [],
   "execution_count": 2
  },
  {
   "cell_type": "code",
   "id": "eb8d6c68-86c7-4afd-aa24-24141dc2ce19",
   "metadata": {
    "ExecuteTime": {
     "end_time": "2025-01-06T15:20:09.286629Z",
     "start_time": "2025-01-06T15:20:09.255610Z"
    }
   },
   "source": [
    "#loading data\n",
    "spaceship=pd.read_csv(\"train.csv\")\n"
   ],
   "outputs": [],
   "execution_count": 3
  },
  {
   "cell_type": "markdown",
   "id": "603d671e-f447-442e-92ff-cdeed6e32558",
   "metadata": {},
   "source": [
    "# Basic Data Exploration"
   ]
  },
  {
   "cell_type": "code",
   "id": "f2506502-66a2-414a-ae9f-658726b40abd",
   "metadata": {
    "ExecuteTime": {
     "end_time": "2025-01-06T15:20:14.113882Z",
     "start_time": "2025-01-06T15:20:14.094310Z"
    }
   },
   "source": [
    "#explore Data\n",
    "spaceship.head()"
   ],
   "outputs": [
    {
     "data": {
      "text/plain": [
       "  PassengerId HomePlanet CryoSleep  Cabin  Destination   Age    VIP  \\\n",
       "0     0001_01     Europa     False  B/0/P  TRAPPIST-1e  39.0  False   \n",
       "1     0002_01      Earth     False  F/0/S  TRAPPIST-1e  24.0  False   \n",
       "2     0003_01     Europa     False  A/0/S  TRAPPIST-1e  58.0   True   \n",
       "3     0003_02     Europa     False  A/0/S  TRAPPIST-1e  33.0  False   \n",
       "4     0004_01      Earth     False  F/1/S  TRAPPIST-1e  16.0  False   \n",
       "\n",
       "   RoomService  FoodCourt  ShoppingMall     Spa  VRDeck               Name  \\\n",
       "0          0.0        0.0           0.0     0.0     0.0    Maham Ofracculy   \n",
       "1        109.0        9.0          25.0   549.0    44.0       Juanna Vines   \n",
       "2         43.0     3576.0           0.0  6715.0    49.0      Altark Susent   \n",
       "3          0.0     1283.0         371.0  3329.0   193.0       Solam Susent   \n",
       "4        303.0       70.0         151.0   565.0     2.0  Willy Santantines   \n",
       "\n",
       "   Transported  \n",
       "0        False  \n",
       "1         True  \n",
       "2        False  \n",
       "3        False  \n",
       "4         True  "
      ],
      "text/html": [
       "<div>\n",
       "<style scoped>\n",
       "    .dataframe tbody tr th:only-of-type {\n",
       "        vertical-align: middle;\n",
       "    }\n",
       "\n",
       "    .dataframe tbody tr th {\n",
       "        vertical-align: top;\n",
       "    }\n",
       "\n",
       "    .dataframe thead th {\n",
       "        text-align: right;\n",
       "    }\n",
       "</style>\n",
       "<table border=\"1\" class=\"dataframe\">\n",
       "  <thead>\n",
       "    <tr style=\"text-align: right;\">\n",
       "      <th></th>\n",
       "      <th>PassengerId</th>\n",
       "      <th>HomePlanet</th>\n",
       "      <th>CryoSleep</th>\n",
       "      <th>Cabin</th>\n",
       "      <th>Destination</th>\n",
       "      <th>Age</th>\n",
       "      <th>VIP</th>\n",
       "      <th>RoomService</th>\n",
       "      <th>FoodCourt</th>\n",
       "      <th>ShoppingMall</th>\n",
       "      <th>Spa</th>\n",
       "      <th>VRDeck</th>\n",
       "      <th>Name</th>\n",
       "      <th>Transported</th>\n",
       "    </tr>\n",
       "  </thead>\n",
       "  <tbody>\n",
       "    <tr>\n",
       "      <th>0</th>\n",
       "      <td>0001_01</td>\n",
       "      <td>Europa</td>\n",
       "      <td>False</td>\n",
       "      <td>B/0/P</td>\n",
       "      <td>TRAPPIST-1e</td>\n",
       "      <td>39.0</td>\n",
       "      <td>False</td>\n",
       "      <td>0.0</td>\n",
       "      <td>0.0</td>\n",
       "      <td>0.0</td>\n",
       "      <td>0.0</td>\n",
       "      <td>0.0</td>\n",
       "      <td>Maham Ofracculy</td>\n",
       "      <td>False</td>\n",
       "    </tr>\n",
       "    <tr>\n",
       "      <th>1</th>\n",
       "      <td>0002_01</td>\n",
       "      <td>Earth</td>\n",
       "      <td>False</td>\n",
       "      <td>F/0/S</td>\n",
       "      <td>TRAPPIST-1e</td>\n",
       "      <td>24.0</td>\n",
       "      <td>False</td>\n",
       "      <td>109.0</td>\n",
       "      <td>9.0</td>\n",
       "      <td>25.0</td>\n",
       "      <td>549.0</td>\n",
       "      <td>44.0</td>\n",
       "      <td>Juanna Vines</td>\n",
       "      <td>True</td>\n",
       "    </tr>\n",
       "    <tr>\n",
       "      <th>2</th>\n",
       "      <td>0003_01</td>\n",
       "      <td>Europa</td>\n",
       "      <td>False</td>\n",
       "      <td>A/0/S</td>\n",
       "      <td>TRAPPIST-1e</td>\n",
       "      <td>58.0</td>\n",
       "      <td>True</td>\n",
       "      <td>43.0</td>\n",
       "      <td>3576.0</td>\n",
       "      <td>0.0</td>\n",
       "      <td>6715.0</td>\n",
       "      <td>49.0</td>\n",
       "      <td>Altark Susent</td>\n",
       "      <td>False</td>\n",
       "    </tr>\n",
       "    <tr>\n",
       "      <th>3</th>\n",
       "      <td>0003_02</td>\n",
       "      <td>Europa</td>\n",
       "      <td>False</td>\n",
       "      <td>A/0/S</td>\n",
       "      <td>TRAPPIST-1e</td>\n",
       "      <td>33.0</td>\n",
       "      <td>False</td>\n",
       "      <td>0.0</td>\n",
       "      <td>1283.0</td>\n",
       "      <td>371.0</td>\n",
       "      <td>3329.0</td>\n",
       "      <td>193.0</td>\n",
       "      <td>Solam Susent</td>\n",
       "      <td>False</td>\n",
       "    </tr>\n",
       "    <tr>\n",
       "      <th>4</th>\n",
       "      <td>0004_01</td>\n",
       "      <td>Earth</td>\n",
       "      <td>False</td>\n",
       "      <td>F/1/S</td>\n",
       "      <td>TRAPPIST-1e</td>\n",
       "      <td>16.0</td>\n",
       "      <td>False</td>\n",
       "      <td>303.0</td>\n",
       "      <td>70.0</td>\n",
       "      <td>151.0</td>\n",
       "      <td>565.0</td>\n",
       "      <td>2.0</td>\n",
       "      <td>Willy Santantines</td>\n",
       "      <td>True</td>\n",
       "    </tr>\n",
       "  </tbody>\n",
       "</table>\n",
       "</div>"
      ]
     },
     "execution_count": 4,
     "metadata": {},
     "output_type": "execute_result"
    }
   ],
   "execution_count": 4
  },
  {
   "cell_type": "code",
   "id": "ba61d514-27c2-4ed2-bec4-ba8dde9c6b2f",
   "metadata": {
    "ExecuteTime": {
     "end_time": "2025-01-06T15:20:17.958456Z",
     "start_time": "2025-01-06T15:20:17.941635Z"
    }
   },
   "source": [
    "spaceship.info()"
   ],
   "outputs": [
    {
     "name": "stdout",
     "output_type": "stream",
     "text": [
      "<class 'pandas.core.frame.DataFrame'>\n",
      "RangeIndex: 8693 entries, 0 to 8692\n",
      "Data columns (total 14 columns):\n",
      " #   Column        Non-Null Count  Dtype  \n",
      "---  ------        --------------  -----  \n",
      " 0   PassengerId   8693 non-null   object \n",
      " 1   HomePlanet    8492 non-null   object \n",
      " 2   CryoSleep     8476 non-null   object \n",
      " 3   Cabin         8494 non-null   object \n",
      " 4   Destination   8511 non-null   object \n",
      " 5   Age           8514 non-null   float64\n",
      " 6   VIP           8490 non-null   object \n",
      " 7   RoomService   8512 non-null   float64\n",
      " 8   FoodCourt     8510 non-null   float64\n",
      " 9   ShoppingMall  8485 non-null   float64\n",
      " 10  Spa           8510 non-null   float64\n",
      " 11  VRDeck        8505 non-null   float64\n",
      " 12  Name          8493 non-null   object \n",
      " 13  Transported   8693 non-null   bool   \n",
      "dtypes: bool(1), float64(6), object(7)\n",
      "memory usage: 891.5+ KB\n"
     ]
    }
   ],
   "execution_count": 5
  },
  {
   "cell_type": "code",
   "id": "005503cb-560b-453d-853c-0f3381de8faa",
   "metadata": {
    "ExecuteTime": {
     "end_time": "2025-01-06T15:20:20.693137Z",
     "start_time": "2025-01-06T15:20:20.659954Z"
    }
   },
   "source": [
    "spaceship.describe()"
   ],
   "outputs": [
    {
     "data": {
      "text/plain": [
       "               Age   RoomService     FoodCourt  ShoppingMall           Spa  \\\n",
       "count  8514.000000   8512.000000   8510.000000   8485.000000   8510.000000   \n",
       "mean     28.827930    224.687617    458.077203    173.729169    311.138778   \n",
       "std      14.489021    666.717663   1611.489240    604.696458   1136.705535   \n",
       "min       0.000000      0.000000      0.000000      0.000000      0.000000   \n",
       "25%      19.000000      0.000000      0.000000      0.000000      0.000000   \n",
       "50%      27.000000      0.000000      0.000000      0.000000      0.000000   \n",
       "75%      38.000000     47.000000     76.000000     27.000000     59.000000   \n",
       "max      79.000000  14327.000000  29813.000000  23492.000000  22408.000000   \n",
       "\n",
       "             VRDeck  \n",
       "count   8505.000000  \n",
       "mean     304.854791  \n",
       "std     1145.717189  \n",
       "min        0.000000  \n",
       "25%        0.000000  \n",
       "50%        0.000000  \n",
       "75%       46.000000  \n",
       "max    24133.000000  "
      ],
      "text/html": [
       "<div>\n",
       "<style scoped>\n",
       "    .dataframe tbody tr th:only-of-type {\n",
       "        vertical-align: middle;\n",
       "    }\n",
       "\n",
       "    .dataframe tbody tr th {\n",
       "        vertical-align: top;\n",
       "    }\n",
       "\n",
       "    .dataframe thead th {\n",
       "        text-align: right;\n",
       "    }\n",
       "</style>\n",
       "<table border=\"1\" class=\"dataframe\">\n",
       "  <thead>\n",
       "    <tr style=\"text-align: right;\">\n",
       "      <th></th>\n",
       "      <th>Age</th>\n",
       "      <th>RoomService</th>\n",
       "      <th>FoodCourt</th>\n",
       "      <th>ShoppingMall</th>\n",
       "      <th>Spa</th>\n",
       "      <th>VRDeck</th>\n",
       "    </tr>\n",
       "  </thead>\n",
       "  <tbody>\n",
       "    <tr>\n",
       "      <th>count</th>\n",
       "      <td>8514.000000</td>\n",
       "      <td>8512.000000</td>\n",
       "      <td>8510.000000</td>\n",
       "      <td>8485.000000</td>\n",
       "      <td>8510.000000</td>\n",
       "      <td>8505.000000</td>\n",
       "    </tr>\n",
       "    <tr>\n",
       "      <th>mean</th>\n",
       "      <td>28.827930</td>\n",
       "      <td>224.687617</td>\n",
       "      <td>458.077203</td>\n",
       "      <td>173.729169</td>\n",
       "      <td>311.138778</td>\n",
       "      <td>304.854791</td>\n",
       "    </tr>\n",
       "    <tr>\n",
       "      <th>std</th>\n",
       "      <td>14.489021</td>\n",
       "      <td>666.717663</td>\n",
       "      <td>1611.489240</td>\n",
       "      <td>604.696458</td>\n",
       "      <td>1136.705535</td>\n",
       "      <td>1145.717189</td>\n",
       "    </tr>\n",
       "    <tr>\n",
       "      <th>min</th>\n",
       "      <td>0.000000</td>\n",
       "      <td>0.000000</td>\n",
       "      <td>0.000000</td>\n",
       "      <td>0.000000</td>\n",
       "      <td>0.000000</td>\n",
       "      <td>0.000000</td>\n",
       "    </tr>\n",
       "    <tr>\n",
       "      <th>25%</th>\n",
       "      <td>19.000000</td>\n",
       "      <td>0.000000</td>\n",
       "      <td>0.000000</td>\n",
       "      <td>0.000000</td>\n",
       "      <td>0.000000</td>\n",
       "      <td>0.000000</td>\n",
       "    </tr>\n",
       "    <tr>\n",
       "      <th>50%</th>\n",
       "      <td>27.000000</td>\n",
       "      <td>0.000000</td>\n",
       "      <td>0.000000</td>\n",
       "      <td>0.000000</td>\n",
       "      <td>0.000000</td>\n",
       "      <td>0.000000</td>\n",
       "    </tr>\n",
       "    <tr>\n",
       "      <th>75%</th>\n",
       "      <td>38.000000</td>\n",
       "      <td>47.000000</td>\n",
       "      <td>76.000000</td>\n",
       "      <td>27.000000</td>\n",
       "      <td>59.000000</td>\n",
       "      <td>46.000000</td>\n",
       "    </tr>\n",
       "    <tr>\n",
       "      <th>max</th>\n",
       "      <td>79.000000</td>\n",
       "      <td>14327.000000</td>\n",
       "      <td>29813.000000</td>\n",
       "      <td>23492.000000</td>\n",
       "      <td>22408.000000</td>\n",
       "      <td>24133.000000</td>\n",
       "    </tr>\n",
       "  </tbody>\n",
       "</table>\n",
       "</div>"
      ]
     },
     "execution_count": 6,
     "metadata": {},
     "output_type": "execute_result"
    }
   ],
   "execution_count": 6
  },
  {
   "cell_type": "code",
   "execution_count": 6,
   "id": "1b32d155-4391-4155-98bf-7cd51542a381",
   "metadata": {},
   "outputs": [
    {
     "data": {
      "text/plain": [
       "<function matplotlib.pyplot.show(close=None, block=None)>"
      ]
     },
     "execution_count": 6,
     "metadata": {},
     "output_type": "execute_result"
    },
    {
     "data": {
      "image/png": "[encoded data removed]",
      "text/plain": [
       "<Figure size 1200x800 with 6 Axes>"
      ]
     },
     "metadata": {},
     "output_type": "display_data"
    }
   ],
   "source": [
    "spaceship.hist(bins=50, figsize=(12,8))\n",
    "plt.show"
   ]
  },
  {
   "cell_type": "markdown",
   "id": "fc2001d3-012c-40e3-8b5b-e7e7f5ca30ae",
   "metadata": {},
   "source": [
    "# Feature Engineering"
   ]
  },
  {
   "cell_type": "code",
   "execution_count": 7,
   "id": "b843aad5-5d3c-40e7-9dc4-54f4b54b44d3",
   "metadata": {},
   "outputs": [
    {
     "data": {
      "text/html": [
       "<div>\n",
       "<style scoped>\n",
       "    .dataframe tbody tr th:only-of-type {\n",
       "        vertical-align: middle;\n",
       "    }\n",
       "\n",
       "    .dataframe tbody tr th {\n",
       "        vertical-align: top;\n",
       "    }\n",
       "\n",
       "    .dataframe thead th {\n",
       "        text-align: right;\n",
       "    }\n",
       "</style>\n",
       "<table border=\"1\" class=\"dataframe\">\n",
       "  <thead>\n",
       "    <tr style=\"text-align: right;\">\n",
       "      <th></th>\n",
       "      <th>HomePlanet</th>\n",
       "      <th>CryoSleep</th>\n",
       "      <th>Destination</th>\n",
       "      <th>Age</th>\n",
       "      <th>VIP</th>\n",
       "      <th>RoomService</th>\n",
       "      <th>FoodCourt</th>\n",
       "      <th>ShoppingMall</th>\n",
       "      <th>Spa</th>\n",
       "      <th>VRDeck</th>\n",
       "      <th>Transported</th>\n",
       "      <th>spending_overall</th>\n",
       "      <th>spending_category</th>\n",
       "      <th>Deck</th>\n",
       "    </tr>\n",
       "  </thead>\n",
       "  <tbody>\n",
       "    <tr>\n",
       "      <th>0</th>\n",
       "      <td>Europa</td>\n",
       "      <td>False</td>\n",
       "      <td>TRAPPIST-1e</td>\n",
       "      <td>39.0</td>\n",
       "      <td>False</td>\n",
       "      <td>0.0</td>\n",
       "      <td>0.0</td>\n",
       "      <td>0.0</td>\n",
       "      <td>0.0</td>\n",
       "      <td>0.0</td>\n",
       "      <td>False</td>\n",
       "      <td>0.0</td>\n",
       "      <td>1</td>\n",
       "      <td>B</td>\n",
       "    </tr>\n",
       "    <tr>\n",
       "      <th>1</th>\n",
       "      <td>Earth</td>\n",
       "      <td>False</td>\n",
       "      <td>TRAPPIST-1e</td>\n",
       "      <td>24.0</td>\n",
       "      <td>False</td>\n",
       "      <td>109.0</td>\n",
       "      <td>9.0</td>\n",
       "      <td>25.0</td>\n",
       "      <td>549.0</td>\n",
       "      <td>44.0</td>\n",
       "      <td>True</td>\n",
       "      <td>736.0</td>\n",
       "      <td>1</td>\n",
       "      <td>F</td>\n",
       "    </tr>\n",
       "    <tr>\n",
       "      <th>2</th>\n",
       "      <td>Europa</td>\n",
       "      <td>False</td>\n",
       "      <td>TRAPPIST-1e</td>\n",
       "      <td>58.0</td>\n",
       "      <td>True</td>\n",
       "      <td>43.0</td>\n",
       "      <td>3576.0</td>\n",
       "      <td>0.0</td>\n",
       "      <td>6715.0</td>\n",
       "      <td>49.0</td>\n",
       "      <td>False</td>\n",
       "      <td>10383.0</td>\n",
       "      <td>3</td>\n",
       "      <td>A</td>\n",
       "    </tr>\n",
       "    <tr>\n",
       "      <th>3</th>\n",
       "      <td>Europa</td>\n",
       "      <td>False</td>\n",
       "      <td>TRAPPIST-1e</td>\n",
       "      <td>33.0</td>\n",
       "      <td>False</td>\n",
       "      <td>0.0</td>\n",
       "      <td>1283.0</td>\n",
       "      <td>371.0</td>\n",
       "      <td>3329.0</td>\n",
       "      <td>193.0</td>\n",
       "      <td>False</td>\n",
       "      <td>5176.0</td>\n",
       "      <td>2</td>\n",
       "      <td>A</td>\n",
       "    </tr>\n",
       "    <tr>\n",
       "      <th>4</th>\n",
       "      <td>Earth</td>\n",
       "      <td>False</td>\n",
       "      <td>TRAPPIST-1e</td>\n",
       "      <td>16.0</td>\n",
       "      <td>False</td>\n",
       "      <td>303.0</td>\n",
       "      <td>70.0</td>\n",
       "      <td>151.0</td>\n",
       "      <td>565.0</td>\n",
       "      <td>2.0</td>\n",
       "      <td>True</td>\n",
       "      <td>1091.0</td>\n",
       "      <td>1</td>\n",
       "      <td>F</td>\n",
       "    </tr>\n",
       "  </tbody>\n",
       "</table>\n",
       "</div>"
      ],
      "text/plain": [
       "  HomePlanet CryoSleep  Destination   Age    VIP  RoomService  FoodCourt   \n",
       "0     Europa     False  TRAPPIST-1e  39.0  False          0.0        0.0  \\\n",
       "1      Earth     False  TRAPPIST-1e  24.0  False        109.0        9.0   \n",
       "2     Europa     False  TRAPPIST-1e  58.0   True         43.0     3576.0   \n",
       "3     Europa     False  TRAPPIST-1e  33.0  False          0.0     1283.0   \n",
       "4      Earth     False  TRAPPIST-1e  16.0  False        303.0       70.0   \n",
       "\n",
       "   ShoppingMall     Spa  VRDeck  Transported  spending_overall   \n",
       "0           0.0     0.0     0.0        False               0.0  \\\n",
       "1          25.0   549.0    44.0         True             736.0   \n",
       "2           0.0  6715.0    49.0        False           10383.0   \n",
       "3         371.0  3329.0   193.0        False            5176.0   \n",
       "4         151.0   565.0     2.0         True            1091.0   \n",
       "\n",
       "  spending_category Deck  \n",
       "0                 1    B  \n",
       "1                 1    F  \n",
       "2                 3    A  \n",
       "3                 2    A  \n",
       "4                 1    F  "
      ]
     },
     "execution_count": 7,
     "metadata": {},
     "output_type": "execute_result"
    }
   ],
   "source": [
    "#feature engineering\n",
    "spaceship[\"spending_overall\"]= spaceship[\"RoomService\"]+spaceship[\"FoodCourt\"]+spaceship[\"ShoppingMall\"]+spaceship[\"Spa\"]+spaceship[\"VRDeck\"]\n",
    "spaceship[\"spending_category\"]=pd.cut(spaceship[\"spending_overall\"], bins=[0., 5000., 10000., 15000., 20000., 25000., 30000., np.inf], labels=[1,2,3,4,5,6,7])\n",
    "spaceship[\"spending_category\"].fillna(1, inplace=True)\n",
    "spaceship.dropna(subset=[\"Cabin\"],inplace=True)\n",
    "spaceship[\"Deck\"]= spaceship[\"Cabin\"].astype(str).str[0]\n",
    "spaceship= spaceship.drop([\"Name\", \"PassengerId\", \"Cabin\"], axis=1)\n",
    "spaceship.head()"
   ]
  },
  {
   "cell_type": "markdown",
   "id": "4642d79b-c2a0-488f-b278-f95dcad584b5",
   "metadata": {},
   "source": [
    "# Data Splitting"
   ]
  },
  {
   "cell_type": "code",
   "execution_count": 8,
   "id": "ed5026ab-24c2-4f48-80fe-0cd92b66e27c",
   "metadata": {},
   "outputs": [],
   "source": [
    "#Splitting the Data \n",
    "train_set, test_set =train_test_split(spaceship, test_size=0.2,stratify=spaceship[\"Deck\"],  random_state=42)\n",
    "\n",
    "training_features = train_set.drop(\"Transported\", axis=1)\n",
    "training_labels = train_set[\"Transported\"].copy()\n",
    "\n",
    "testing_features = test_set.drop(\"Transported\", axis=1)\n",
    "testing_labels = test_set[\"Transported\"].copy()"
   ]
  },
  {
   "cell_type": "markdown",
   "id": "9de94b3a-55df-472e-8566-ee6ae8dfc807",
   "metadata": {},
   "source": [
    "# Preprocessing via Pipelines"
   ]
  },
  {
   "cell_type": "code",
   "execution_count": 9,
   "id": "bb12a37d-4466-43e7-ba97-cf30bfd96c86",
   "metadata": {},
   "outputs": [
    {
     "data": {
      "text/plain": [
       "array(['cat__HomePlanet_Earth', 'cat__HomePlanet_Europa',\n",
       "       'cat__HomePlanet_Mars', 'cat__CryoSleep_False',\n",
       "       'cat__CryoSleep_True', 'cat__Destination_55 Cancri e',\n",
       "       'cat__Destination_PSO J318.5-22', 'cat__Destination_TRAPPIST-1e',\n",
       "       'cat__VIP_False', 'cat__VIP_True', 'cat__Deck_A', 'cat__Deck_B',\n",
       "       'cat__Deck_C', 'cat__Deck_D', 'cat__Deck_E', 'cat__Deck_F',\n",
       "       'cat__Deck_G', 'cat__Deck_T', 'remainder__Age',\n",
       "       'remainder__RoomService', 'remainder__FoodCourt',\n",
       "       'remainder__ShoppingMall', 'remainder__Spa', 'remainder__VRDeck',\n",
       "       'remainder__spending_overall', 'remainder__spending_category'],\n",
       "      dtype=object)"
      ]
     },
     "execution_count": 9,
     "metadata": {},
     "output_type": "execute_result"
    }
   ],
   "source": [
    "#preprocessing\n",
    "num_pipeline= Pipeline([(\"Impute\", SimpleImputer(strategy=\"median\"))\n",
    "                        ,(\"Scaling\", StandardScaler())])\n",
    "cat_pipeline= Pipeline([(\"Impute\", SimpleImputer(strategy=\"most_frequent\")),\n",
    "                        (\"Encoding\", OneHotEncoder())\n",
    "                        ])\n",
    "log_pipeline= Pipeline([(\"Impute\", SimpleImputer(strategy=\"median\")),\n",
    "                        (\"Log-Transformer\", FunctionTransformer(np.log)),\n",
    "                        (\"Scaling\", StandardScaler())])\n",
    "preprocessing= ColumnTransformer([\n",
    "    #(\"log\", log_pipeline, [\"spending_overall\"]),\n",
    "    (\"cat\", cat_pipeline, make_column_selector(dtype_include=object)),\n",
    "    ], remainder=num_pipeline)\n",
    "\n",
    "training_features_prepared = preprocessing.fit_transform(training_features)\n",
    "testing_features_prepared = preprocessing.transform(testing_features)\n",
    "\n",
    "preprocessing.get_feature_names_out()"
   ]
  },
  {
   "cell_type": "markdown",
   "id": "f84e6e27-c621-440d-bbd1-baab4f5d797e",
   "metadata": {},
   "source": [
    "# Creating Models\n",
    "Goal: finding 3 promising models for fine-tuning"
   ]
  },
  {
   "cell_type": "code",
   "execution_count": 10,
   "id": "ffe0cde7-faee-406d-8354-ecd4fb8e6702",
   "metadata": {},
   "outputs": [],
   "source": [
    "#creating models\n",
    "rfc_model = RandomForestClassifier(random_state=42)\n",
    "lr_model = LogisticRegression(random_state=42)\n",
    "dt_model = DecisionTreeClassifier(random_state=42)\n",
    "svm_model = SVC(random_state=42)\n",
    "knn_model = KNeighborsClassifier()\n",
    "nb_model = GaussianNB()\n",
    "sgd_model = SGDClassifier(random_state=42)\n",
    "\n",
    "models={'Random Forest Classifier':rfc_model, 'Logistic Regression':lr_model, 'Decision Tree Model':dt_model,\n",
    "        'SVM Model': svm_model,'KNN Model': knn_model,'naive Bayes Model': nb_model, 'SG Descent Model' : sgd_model}\n"
   ]
  },
  {
   "cell_type": "markdown",
   "id": "8fe69d5a-e8e1-4ad4-8fa8-9e3fa9a90c36",
   "metadata": {},
   "source": [
    "# Finding Promising Model Shortlist"
   ]
  },
  {
   "cell_type": "code",
   "execution_count": 11,
   "id": "ef9cdbed-3d29-450e-af2d-82cae37578a5",
   "metadata": {},
   "outputs": [
    {
     "name": "stdout",
     "output_type": "stream",
     "text": [
      "Accuracy on Training Data/Testing Data of the Random Forest Classifier is 0.9416/ 0.8111 \n",
      "F1 is 0.9434/ 0.8088 \n",
      "Accuracy on Training Data/Testing Data of the Logistic Regression is 0.7841/ 0.8134 \n",
      "F1 is 0.7885/ 0.8177 \n",
      "Accuracy on Training Data/Testing Data of the Decision Tree Model is 0.9416/ 0.7487 \n",
      "F1 is 0.9426/ 0.7561 \n",
      "Accuracy on Training Data/Testing Data of the SVM Model is 0.7990/ 0.8164 \n",
      "F1 is 0.7983/ 0.8127 \n",
      "Accuracy on Training Data/Testing Data of the KNN Model is 0.8275/ 0.7916 \n",
      "F1 is 0.8288/ 0.7927 \n",
      "Accuracy on Training Data/Testing Data of the naive Bayes Model is 0.7305/ 0.7681 \n",
      "F1 is 0.7677/ 0.7988 \n",
      "Accuracy on Training Data/Testing Data of the SG Descent Model is 0.7765/ 0.7946 \n",
      "F1 is 0.7697/ 0.7904 \n"
     ]
    }
   ],
   "source": [
    "for name, model in models.items():\n",
    "    model.fit(training_features_prepared, training_labels)\n",
    "    accuracy_train=accuracy_score(training_labels, model.predict(training_features_prepared))\n",
    "    accuracy_test=accuracy_score(testing_labels, model.predict(testing_features_prepared))\n",
    "    f1_train= f1_score(training_labels, model.predict(training_features_prepared))\n",
    "    f1_test=f1_score(testing_labels, model.predict(testing_features_prepared))\n",
    "    print(f\"Accuracy on Training Data/Testing Data of the {name} is {accuracy_train:.4f}/ {accuracy_test:.4f} \\nF1 is {f1_train:.4f}/ {f1_test:.4f} \")\n",
    "  "
   ]
  },
  {
   "cell_type": "markdown",
   "id": "858ff9d6-d3a8-47b9-8700-d127e8bcad95",
   "metadata": {},
   "source": [
    "The three most promising Models are Random Forest Classifier, Linear Regression, SVM Model and KNN. Random Forest Classifier is severly overfitted, but still performs quite well. In the scneario of the data set, there is no particular reason to prefer precision over recall or vice versa. Therefore we will opt for a balanced score (a good f1 score)."
   ]
  },
  {
   "cell_type": "markdown",
   "id": "e87fc734-d9d6-4fb6-a5ee-ddc092003773",
   "metadata": {},
   "source": [
    "# Model Fine Tuning"
   ]
  },
  {
   "cell_type": "code",
   "execution_count": 12,
   "id": "b5c3d148-40c4-4767-a5fc-925f45a73ac5",
   "metadata": {},
   "outputs": [
    {
     "data": {
      "text/plain": [
       "{'random_forest__max_depth': 56,\n",
       " 'random_forest__max_features': 16,\n",
       " 'random_forest__n_estimators': 126}"
      ]
     },
     "execution_count": 12,
     "metadata": {},
     "output_type": "execute_result"
    }
   ],
   "source": [
    "param_distribs_rf= {'random_forest__n_estimators': randint(low=20, high=200),\n",
    "                    'random_forest__max_features' : randint(low=2, high=30),\n",
    "                    'random_forest__max_depth': randint(low=5, high= 100)}\n",
    "\n",
    "full_pipeline_rf= Pipeline([\n",
    "    (\"preprocessing\", preprocessing),\n",
    "    (\"random_forest\", RandomForestClassifier(random_state=11))\n",
    "     ])\n",
    "rnd_search= RandomizedSearchCV(\n",
    "    full_pipeline_rf, param_distributions=param_distribs_rf, cv=3, scoring=\"f1\", random_state=42\n",
    ")\n",
    "rnd_search.fit(training_features, training_labels)\n",
    "rnd_search.best_params_"
   ]
  },
  {
   "cell_type": "code",
   "execution_count": 13,
   "id": "4299b5c9-0d79-4d03-924d-d348dd3fc837",
   "metadata": {},
   "outputs": [
    {
     "data": {
      "text/plain": [
       "{'svm__C': 6, 'svm__degree': 15}"
      ]
     },
     "execution_count": 13,
     "metadata": {},
     "output_type": "execute_result"
    }
   ],
   "source": [
    "param_distribs_svm= {'svm__C': randint(low=0, high=10),\n",
    "                    'svm__degree' : randint(low=1, high=20)}\n",
    "\n",
    "full_pipeline_svm= Pipeline([\n",
    "    (\"preprocessing\", preprocessing),\n",
    "    (\"svm\", SVC(random_state=42))\n",
    "     ])\n",
    "rnd_search= RandomizedSearchCV(\n",
    "    full_pipeline_svm, param_distributions=param_distribs_svm, cv=3, scoring=\"f1\", random_state=42\n",
    ")\n",
    "rnd_search.fit(training_features, training_labels)\n",
    "rnd_search.best_params_"
   ]
  },
  {
   "cell_type": "code",
   "execution_count": 14,
   "id": "a8241bdd-77f5-4890-b134-9f90ae494cae",
   "metadata": {},
   "outputs": [
    {
     "data": {
      "text/plain": [
       "{'log_regression__C': 3}"
      ]
     },
     "execution_count": 14,
     "metadata": {},
     "output_type": "execute_result"
    }
   ],
   "source": [
    "param_distribs_lr= {'log_regression__C': randint(low=0, high=5)}\n",
    "\n",
    "full_pipeline_lr= Pipeline([\n",
    "    (\"preprocessing\", preprocessing),\n",
    "    (\"log_regression\", LogisticRegression(random_state=42))\n",
    "     ])\n",
    "rnd_search= RandomizedSearchCV(\n",
    "    full_pipeline_lr, param_distributions=param_distribs_lr, cv=3, scoring=\"f1\", random_state=42\n",
    ")\n",
    "rnd_search.fit(training_features, training_labels)\n",
    "rnd_search.best_params_"
   ]
  },
  {
   "cell_type": "code",
   "execution_count": 19,
   "id": "064d6108-5369-4e09-a918-177bac147ece",
   "metadata": {},
   "outputs": [
    {
     "data": {
      "text/plain": [
       "{'KNN__n_neighbors': 9}"
      ]
     },
     "execution_count": 19,
     "metadata": {},
     "output_type": "execute_result"
    }
   ],
   "source": [
    "param_distribs_knn= {'KNN__n_neighbors': randint(low=2, high=20)}\n",
    "\n",
    "full_pipeline_knn= Pipeline([\n",
    "    (\"preprocessing\", preprocessing),\n",
    "    (\"KNN\", KNeighborsClassifier())\n",
    "     ])\n",
    "rnd_search= RandomizedSearchCV(\n",
    "    full_pipeline_knn, param_distributions=param_distribs_knn, cv=3, scoring=\"f1\", random_state=42\n",
    ")\n",
    "rnd_search.fit(training_features, training_labels)\n",
    "rnd_search.best_params_"
   ]
  },
  {
   "cell_type": "code",
   "execution_count": 13,
   "id": "531ec3a8-c7da-4233-819d-ac849ad646bb",
   "metadata": {},
   "outputs": [],
   "source": [
    "#creating models\n",
    "rfc_model = RandomForestClassifier(n_estimators=21, max_features=8, random_state=11)\n",
    "lr_model = LogisticRegression(C=3,random_state=42)\n",
    "svm_model = SVC(C=6, degree=15, random_state=42)\n",
    "knn_model = KNeighborsClassifier(n_neighbors=9)\n"
   ]
  },
  {
   "cell_type": "code",
   "execution_count": 21,
   "id": "1b640559-d208-4c54-8b0a-bae3a7aa8fd0",
   "metadata": {},
   "outputs": [],
   "source": [
    "candidates={'Random Forest Classifier':rfc_model, 'Logistic Regression':lr_model,\n",
    "        'SVM Model': svm_model, 'KNN Model' : knn_model}"
   ]
  },
  {
   "cell_type": "markdown",
   "id": "b52c57c6-059d-4065-892e-cdfd66aa1bed",
   "metadata": {},
   "source": [
    "## Final Scores of Training Data "
   ]
  },
  {
   "cell_type": "code",
   "execution_count": 24,
   "id": "8ecb8006-ee7b-4b71-8bbb-2b3efa82dfa8",
   "metadata": {},
   "outputs": [
    {
     "name": "stdout",
     "output_type": "stream",
     "text": [
      "The Confusion Matrix of Random Forest Classifier looks like \n",
      " [[2720  661]\n",
      " [ 843 2571]] \n",
      " precision is 0.7954826732673267, recall is 0.7530755711775043 and f1 is 0.7736984652422509\n",
      "The Confusion Matrix of Logistic Regression looks like \n",
      " [[2594  787]\n",
      " [ 701 2713]] \n",
      " precision is 0.7751428571428571, recall is 0.7946690099589924 and f1 is 0.7847844952270755\n",
      "The Confusion Matrix of SVM Model looks like \n",
      " [[2689  692]\n",
      " [ 772 2642]] \n",
      " precision is 0.7924415116976604, recall is 0.7738722905682484 and f1 is 0.7830468286899822\n",
      "The Confusion Matrix of KNN Model looks like \n",
      " [[2547  834]\n",
      " [ 794 2620]] \n",
      " precision is 0.7585408222350898, recall is 0.7674282366725249 and f1 is 0.762958648806057\n"
     ]
    }
   ],
   "source": [
    "for name, model in candidates.items():\n",
    "    train_pred=cross_val_predict(model, training_features_prepared, training_labels, cv=3)\n",
    "    cm = confusion_matrix(training_labels, train_pred)\n",
    "    prec=precision_score(training_labels, train_pred)\n",
    "    recall=recall_score(training_labels, train_pred)\n",
    "    f1=f1_score(training_labels, train_pred)\n",
    "    print(f\"The Confusion Matrix of {name} looks like \\n {cm} \\n precision is {prec}, recall is {recall} and f1 is {f1}\")"
   ]
  },
  {
   "cell_type": "markdown",
   "id": "a2133aea-ae50-4d98-9c26-a3b5007481ca",
   "metadata": {},
   "source": [
    "## Final Scores of Testing Data "
   ]
  },
  {
   "cell_type": "code",
   "execution_count": 25,
   "id": "dd5b75ef-0ab5-4d76-9e6c-2b7d1d955368",
   "metadata": {},
   "outputs": [
    {
     "name": "stdout",
     "output_type": "stream",
     "text": [
      "The Confusion Matrix of Random Forest Classifier looks like \n",
      " [[690 145]\n",
      " [215 649]] \n",
      " precision is 0.8173803526448362, recall is 0.7511574074074074 and f1 is 0.7828709288299156\n",
      "The Confusion Matrix of Logistic Regression looks like \n",
      " [[659 176]\n",
      " [148 716]] \n",
      " precision is 0.8026905829596412, recall is 0.8287037037037037 and f1 is 0.815489749430524\n",
      "The Confusion Matrix of SVM Model looks like \n",
      " [[685 150]\n",
      " [191 673]] \n",
      " precision is 0.8177399756986634, recall is 0.7789351851851852 and f1 is 0.7978660343805573\n",
      "The Confusion Matrix of KNN Model looks like \n",
      " [[668 167]\n",
      " [198 666]] \n",
      " precision is 0.7995198079231692, recall is 0.7708333333333334 and f1 is 0.7849145550972304\n"
     ]
    }
   ],
   "source": [
    "for name, model in candidates.items():\n",
    "    test_pred=cross_val_predict(model, testing_features_prepared, testing_labels, cv=3)\n",
    "    cm = confusion_matrix(testing_labels, test_pred)\n",
    "    prec=precision_score(testing_labels, test_pred)\n",
    "    recall=recall_score(testing_labels, test_pred)\n",
    "    f1=f1_score(testing_labels, test_pred)\n",
    "    print(f\"The Confusion Matrix of {name} looks like \\n {cm} \\n precision is {prec}, recall is {recall} and f1 is {f1}\")"
   ]
  },
  {
   "cell_type": "markdown",
   "id": "f647eef5-cf4b-46a9-9018-6167c6539657",
   "metadata": {},
   "source": [
    "It looks like the logistic Regression Model is the most promising out of all the models. Now it is time to make the actual predictions for the \"Test\" Set given by Kaggle. Let#s call it the submission set. It needs to be preprocessed just like the training set."
   ]
  },
  {
   "cell_type": "code",
   "execution_count": 27,
   "id": "54ee5c0a-e314-47e8-9901-366e10ec6bb6",
   "metadata": {},
   "outputs": [],
   "source": [
    "#loading data\n",
    "spaceship_sub=pd.read_csv(\"test.csv\")"
   ]
  },
  {
   "cell_type": "code",
   "execution_count": 28,
   "id": "70ba2f0b-ccda-48f3-8754-d53a70dc9fbb",
   "metadata": {},
   "outputs": [],
   "source": [
    "#feature engineering\n",
    "spaceship_sub[\"spending_overall\"]= spaceship_sub[\"RoomService\"]+spaceship_sub[\"FoodCourt\"]+spaceship_sub[\"ShoppingMall\"]+spaceship_sub[\"Spa\"]+spaceship_sub[\"VRDeck\"]\n",
    "spaceship_sub[\"spending_category\"]=pd.cut(spaceship_sub[\"spending_overall\"], bins=[0., 5000., 10000., 15000., 20000., 25000., 30000., np.inf], labels=[1,2,3,4,5,6,7])\n",
    "spaceship_sub[\"spending_category\"].fillna(1, inplace=True)\n",
    "spaceship_sub.dropna(subset=[\"Cabin\"],inplace=True)\n",
    "spaceship_sub[\"Deck\"]= spaceship_sub[\"Cabin\"].astype(str).str[0]\n",
    "spaceship_sub= spaceship_sub.drop([\"Name\", \"PassengerId\", \"Cabin\"], axis=1)"
   ]
  },
  {
   "cell_type": "code",
   "execution_count": 30,
   "id": "fc515af7-448b-4458-a6f3-16128d88be8d",
   "metadata": {},
   "outputs": [],
   "source": [
    "submission_features_prepared = preprocessing.fit_transform(spaceship_sub)"
   ]
  },
  {
   "cell_type": "code",
   "execution_count": 33,
   "id": "7d548632-7505-44be-9cdb-744f521c2df6",
   "metadata": {},
   "outputs": [
    {
     "data": {
      "text/plain": [
       "array([ True, False,  True, ...,  True,  True,  True])"
      ]
     },
     "execution_count": 33,
     "metadata": {},
     "output_type": "execute_result"
    }
   ],
   "source": [
    "lr_model.predict(submission_features_prepared)"
   ]
  }
 ],
 "metadata": {
  "kernelspec": {
   "display_name": "Python 3 (ipykernel)",
   "language": "python",
   "name": "python3"
  },
  "language_info": {
   "codemirror_mode": {
    "name": "ipython",
    "version": 3
   },
   "file_extension": ".py",
   "mimetype": "text/x-python",
   "name": "python",
   "nbconvert_exporter": "python",
   "pygments_lexer": "ipython3",
   "version": "3.11.3"
  }
 },
 "nbformat": 4,
 "nbformat_minor": 5
}
